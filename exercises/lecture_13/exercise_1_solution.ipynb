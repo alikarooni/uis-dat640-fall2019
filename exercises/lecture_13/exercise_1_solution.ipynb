{
 "cells": [
  {
   "cell_type": "markdown",
   "metadata": {},
   "source": [
    "# Exercise #1: Searching in Wikipedia\n",
    "\n",
    "Your task is to make a small subset of entities in Wikipedia searchable using Elasticsearch.\n",
    "For that, you'll need to \n",
    "\n",
    "  1. Run the elasticsearch server on your local machine\n",
    "  1. Download and index a subset of Wikipedia pages\n",
    "  1. Come up with some queries and score them against your index"
   ]
  },
  {
   "cell_type": "markdown",
   "metadata": {},
   "source": [
    "## Elasticsearch\n",
    "\n",
    "Check [this document](https://github.com/kbalog/uis-dat640-fall2019/tree/master/code/elasticsearch) on Elasticsearch. Note that you'll need to download and run the binary (that's the elasticsearch service running on your local machine) as well as to install the Python client."
   ]
  },
  {
   "cell_type": "code",
   "execution_count": 1,
   "metadata": {
    "collapsed": true
   },
   "outputs": [],
   "source": [
    "from elasticsearch import Elasticsearch\n",
    "\n",
    "es = Elasticsearch()"
   ]
  },
  {
   "cell_type": "code",
   "execution_count": 4,
   "metadata": {
    "collapsed": false
   },
   "outputs": [],
   "source": [
    "# Initialize index\n",
    "\n",
    "INDEX_NAME = \"wikipedia\"\n",
    "\n",
    "INDEX_SETTINGS = {\n",
    "    \"settings\" : {\n",
    "        \"index\" : {\n",
    "            \"number_of_shards\" : 1,\n",
    "            \"number_of_replicas\" : 1\n",
    "        }\n",
    "    },\n",
    "    \"mappings\": {\n",
    "            \"properties\": {\n",
    "                \"content\": {\n",
    "                    \"type\": \"text\",\n",
    "                    \"term_vector\": \"yes\",\n",
    "                    \"analyzer\": \"english\"\n",
    "                },\n",
    "                \"title\": {\n",
    "                    \"type\": \"text\",\n",
    "                    \"term_vector\": \"yes\",\n",
    "                    \"analyzer\": \"english\"\n",
    "                },\n",
    "                \"id\": {\n",
    "                    \"type\": \"keyword\"\n",
    "                },\n",
    "                \"url\": {\n",
    "                    \"type\": \"keyword\"\n",
    "                },\n",
    "\n",
    "            }\n",
    "        }\n",
    "    }\n",
    "\n",
    "if not es.indices.exists(INDEX_NAME):  # create index if it doesn't exist\n",
    "    es.indices.create(index=INDEX_NAME, body=INDEX_SETTINGS)"
   ]
  },
  {
   "cell_type": "markdown",
   "metadata": {},
   "source": [
    "## Downloading and indexing Wikipedia pages"
   ]
  },
  {
   "cell_type": "markdown",
   "metadata": {},
   "source": [
    "Select a small subset of pages (min. 10) to index. Specifically, we want articles corresponding to Norwegian cities.\n",
    "\n",
    "This may be done manually, by simply listing the pages (as below) or programmatically, e.g., by taking all pages from a given category (e.g., from https://en.wikipedia.org/wiki/List_of_towns_and_cities_in_Norway)."
   ]
  },
  {
   "cell_type": "code",
   "execution_count": 6,
   "metadata": {
    "collapsed": true
   },
   "outputs": [],
   "source": [
    "pages = [\n",
    "    \"Bergen\", \"Oslo\", \"Stavanger\", \"Trondheim\", \"Kristiansand\", \n",
    "    \"Haugesund\", \"Kristiansand\", \"Bodø_(town)\", \"Egersund\", \"Lillehammer\",\n",
    "    \"Mandal\", \"Molde\"\n",
    "]"
   ]
  },
  {
   "cell_type": "markdown",
   "metadata": {},
   "source": [
    "Crawl the content of these pages using the [Python Wikipedia API](https://pypi.org/project/Wikipedia-API/). You need to install it using\n",
    "\n",
    "```\n",
    "pip install wikipedia-api\n",
    "```\n",
    "\n",
    "It's up to you what you put in the index, but at the minimum index the title of the article as well as its first paragraph (i.e., the summary). Specifically:\n",
    "\n",
    "  * Try to index the full document content and the categories that the article belongs to.\n",
    "  * Separate the different parts of the article into multiple fields in your index."
   ]
  },
  {
   "cell_type": "code",
   "execution_count": 7,
   "metadata": {
    "collapsed": false
   },
   "outputs": [
    {
     "name": "stdout",
     "output_type": "stream",
     "text": [
      "Page: Bergen\n",
      "Title: Bergen\n",
      "Summary: Bergen (Norwegian pronunciation: [ˈbærɡn̩] (listen)), historically Bjørgvin, is a city and municipality in Hordaland on the west coast of Norway. At the end of the first quarter of 2018, the municipal...\n",
      "Page: Oslo\n",
      "Title: Oslo\n",
      "Summary: Oslo ( OZ-loh, also US:  OSS-loh, Norwegian: [²ʊʂlʊ] (listen), rarely [²ʊslʊ, ˈʊʂlʊ]; Southern Sami: Oslove) is the capital and most populous city of Norway. It constitutes both a county and a municip...\n",
      "Page: Stavanger\n",
      "Title: Stavanger\n",
      "Summary: Stavanger (, also UK: , US usually , Norwegian: [stɑˈvɑŋər] (listen)) is a city and municipality in Norway. It is the third largest city and metropolitan area in Norway (through conurbation with neigh...\n",
      "Page: Trondheim\n",
      "Title: Trondheim\n",
      "Summary: Trondheim (UK: , US: , Urban East Norwegian: [²trɔn(h)æɪm] (listen)), historically Kaupangen, Nidaros and Trondhjem, is a city and municipality in Trøndelag county, Norway. It has a population of 193,...\n",
      "Page: Kristiansand\n",
      "Title: Kristiansand\n",
      "Summary: Kristiansand (, also US: , Norwegian: [krɪstjɑnˈsɑnː] (listen)), historically spelled Christianssand and Christiansand, is a city and municipality in Norway. It is the fifth largest city in Norway and...\n",
      "Page: Haugesund\n",
      "Title: Haugesund\n",
      "Summary: Haugesund  (HGSD) is a city and municipality in Rogaland county, Norway. The town is the main population centre of the Haugaland region in northern Rogaland. The majority of the population of Haugesun...\n",
      "Page: Kristiansand\n",
      "Title: Kristiansand\n",
      "Summary: Kristiansand (, also US: , Norwegian: [krɪstjɑnˈsɑnː] (listen)), historically spelled Christianssand and Christiansand, is a city and municipality in Norway. It is the fifth largest city in Norway and...\n",
      "Page: Bodø_(town)\n",
      "Title: Bodø_(town)\n",
      "Summary: Bodø (pronounced [²buːdøː] (listen)) or Bådåddjo (Lule Sami) is a town in Bodø Municipality in Nordland county, Norway.  The town the administrative centre of Bodø Municipality and of Nordland county....\n",
      "Page: Egersund\n",
      "Title: Egersund\n",
      "Summary: Egersund is a town in Eigersund municipality in Rogaland county, Norway.  The town is located along the southwestern coast of Norway, about 75 kilometres (47 mi) south of the city of Stavanger.  The t...\n",
      "Page: Lillehammer\n",
      "Title: Lillehammer\n",
      "Summary: Lillehammer (Urban East Norwegian: [²lɪlːəhɑmər]) is a town and municipality in Oppland county, Norway. It is part of the traditional region of Gudbrandsdal.  The administrative centre of the municipa...\n",
      "Page: Mandal\n",
      "Title: Mandal\n",
      "Summary: A tehsil (also known as a taluka, taluq) is an administrative division in some countries of South Asia. It is an area of land within a city or town that serves as its administrative centre, with possi...\n",
      "Page: Molde\n",
      "Title: Molde\n",
      "Summary: Molde (Norwegian pronunciation: [²mɔldə] (listen)) is a municipality in Møre og Romsdal county, Norway. It is located in the traditional district of Romsdal. The municipality is located on the Romsdal...\n"
     ]
    }
   ],
   "source": [
    "import wikipediaapi\n",
    "\n",
    "wiki_wiki = wikipediaapi.Wikipedia('en')\n",
    "\n",
    "for page in pages:\n",
    "    # Get a page\n",
    "    page_py = wiki_wiki.page(page)\n",
    "    print(\"Page: {}\".format(page))\n",
    "    print(\"Title: {}\".format(page_py.title))\n",
    "    print(\"Summary: {:.200}...\".format(page_py.summary))\n",
    "    # Indexing article    \n",
    "    es.index(index=INDEX_NAME, id=page, body={'title': page_py.title, 'summary': page_py.summary})"
   ]
  },
  {
   "cell_type": "markdown",
   "metadata": {},
   "source": [
    "## Running queries\n",
    "\n",
    "Create some queries that are 'interesting' (and where you could judge what would be sensible results for that query)."
   ]
  },
  {
   "cell_type": "code",
   "execution_count": 13,
   "metadata": {
    "collapsed": false
   },
   "outputs": [
    {
     "name": "stdout",
     "output_type": "stream",
     "text": [
      "Scoring query 'capital'\n",
      "Doc ID: 'Oslo'  Score:  1.46\n",
      "Doc ID: 'Stavanger'  Score:  1.30\n",
      "Doc ID: 'Bergen'  Score:  1.23\n",
      "Scoring query 'commercial centre'\n",
      "Doc ID: 'Molde'  Score:  2.39\n",
      "Doc ID: 'Haugesund'  Score:  0.22\n",
      "Doc ID: 'Lillehammer'  Score:  0.20\n"
     ]
    }
   ],
   "source": [
    "queries = [\"capital\", \"commercial centre\"]\n",
    "\n",
    "for query in queries:\n",
    "    print(\"Scoring query '{}'\".format(query))\n",
    "    res = es.search(index=INDEX_NAME, q=query, _source=False, size=3)\n",
    "    for hit in res['hits']['hits']:\n",
    "        print(\"Doc ID: %3r  Score: %5.2f\" % (hit['_id'], hit['_score']))"
   ]
  },
  {
   "cell_type": "markdown",
   "metadata": {},
   "source": [
    "## Feedback\n",
    "\n",
    "Please give (anonymous) feedback on this exercise by filling out [this form](https://forms.gle/22o3ursi5YsR1Ztb8)."
   ]
  }
 ],
 "metadata": {
  "kernelspec": {
   "display_name": "Python 3",
   "language": "python",
   "name": "python3"
  },
  "language_info": {
   "codemirror_mode": {
    "name": "ipython",
    "version": 3
   },
   "file_extension": ".py",
   "mimetype": "text/x-python",
   "name": "python",
   "nbconvert_exporter": "python",
   "pygments_lexer": "ipython3",
   "version": "3.6.9"
  }
 },
 "nbformat": 4,
 "nbformat_minor": 2
}
