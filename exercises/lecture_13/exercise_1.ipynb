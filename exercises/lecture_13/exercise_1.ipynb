{
 "cells": [
  {
   "cell_type": "markdown",
   "metadata": {},
   "source": [
    "# Exercise #1: Searching in Wikipedia\n",
    "\n",
    "Your task is to make a small subset of entities in Wikipedia searchable using Elasticsearch.\n",
    "For that, you'll need to \n",
    "\n",
    "  1. Run the elasticsearch server on your local machine\n",
    "  1. Download and index a subset of Wikipedia pages\n",
    "  1. Come up with some queries and score them against your index"
   ]
  },
  {
   "cell_type": "markdown",
   "metadata": {},
   "source": [
    "## Elasticsearch\n",
    "\n",
    "Check [this document](https://github.com/kbalog/uis-dat640-fall2019/tree/master/code/elasticsearch) on Elasticsearch. Note that you'll need to download and run the binary (that's the elasticsearch service running on your local machine) as well as to install the Python client."
   ]
  },
  {
   "cell_type": "code",
   "execution_count": 4,
   "metadata": {
    "collapsed": true
   },
   "outputs": [],
   "source": [
    "from elasticsearch import Elasticsearch\n",
    "\n",
    "es = Elasticsearch()"
   ]
  },
  {
   "cell_type": "code",
   "execution_count": 5,
   "metadata": {
    "collapsed": true
   },
   "outputs": [],
   "source": [
    "# TODO: initialize index"
   ]
  },
  {
   "cell_type": "markdown",
   "metadata": {},
   "source": [
    "## Downloading and indexing Wikipedia pages"
   ]
  },
  {
   "cell_type": "markdown",
   "metadata": {},
   "source": [
    "Select a small subset of pages (min. 10) to index. Specifically, we want articles corresponding to Norwegian cities.\n",
    "\n",
    "This may be done manually, by simply listing the pages (as below) or programmatically, e.g., by taking all pages from a given category (e.g., from https://en.wikipedia.org/wiki/List_of_towns_and_cities_in_Norway)."
   ]
  },
  {
   "cell_type": "code",
   "execution_count": 7,
   "metadata": {
    "collapsed": true
   },
   "outputs": [],
   "source": [
    "# TODO: complete this list to have at least 10 pages\n",
    "pages = [\n",
    "    \"Bergen\", \"Oslo\", \"Stavanger\", \"Trondheim\", \"Kristiansand\", \"Haugesund\"    \n",
    "]"
   ]
  },
  {
   "cell_type": "markdown",
   "metadata": {},
   "source": [
    "Crawl the content of these pages using the [Python Wikipedia API](https://pypi.org/project/Wikipedia-API/). You need to install it using\n",
    "\n",
    "```\n",
    "pip install wikipedia-api\n",
    "```\n",
    "\n",
    "It's up to you what you put in the index, but at the minimum index the title of the article as well as its first paragraph (i.e., the summary). Specifically:\n",
    "\n",
    "  * Try to index the full document content and the categories that the article belongs to.\n",
    "  * Separate the different parts of the article into multiple fields in your index."
   ]
  },
  {
   "cell_type": "code",
   "execution_count": 11,
   "metadata": {
    "collapsed": false
   },
   "outputs": [
    {
     "name": "stdout",
     "output_type": "stream",
     "text": [
      "Page: Bergen\n",
      "Title: Bergen\n",
      "Summary: Bergen (Norwegian pronunciation: [ˈbærɡn̩] (listen)), historically Bjørgvin, is a city and municipality in Hordaland on the west coast of Norway. At the end of the first quarter of 2018, the municipal...\n",
      "\n",
      "Page: Oslo\n",
      "Title: Oslo\n",
      "Summary: Oslo ( OZ-loh, also US:  OSS-loh, Norwegian: [²ʊʂlʊ] (listen), rarely [²ʊslʊ, ˈʊʂlʊ]; Southern Sami: Oslove) is the capital and most populous city of Norway. It constitutes both a county and a municip...\n",
      "\n",
      "Page: Stavanger\n",
      "Title: Stavanger\n",
      "Summary: Stavanger (, also UK: , US usually , Norwegian: [stɑˈvɑŋər] (listen)) is a city and municipality in Norway. It is the third largest city and metropolitan area in Norway (through conurbation with neigh...\n",
      "\n",
      "Page: Trondheim\n",
      "Title: Trondheim\n",
      "Summary: Trondheim (UK: , US: , Urban East Norwegian: [²trɔn(h)æɪm] (listen)), historically Kaupangen, Nidaros and Trondhjem, is a city and municipality in Trøndelag county, Norway. It has a population of 193,...\n",
      "\n",
      "Page: Kristiansand\n",
      "Title: Kristiansand\n",
      "Summary: Kristiansand (, also US: , Norwegian: [krɪstjɑnˈsɑnː] (listen)), historically spelled Christianssand and Christiansand, is a city and municipality in Norway. It is the fifth largest city in Norway and...\n",
      "\n",
      "Page: Haugesund\n",
      "Title: Haugesund\n",
      "Summary: Haugesund  (HGSD) is a city and municipality in Rogaland county, Norway. The town is the main population centre of the Haugaland region in northern Rogaland. The majority of the population of Haugesun...\n",
      "\n"
     ]
    }
   ],
   "source": [
    "import wikipediaapi\n",
    "\n",
    "wiki_wiki = wikipediaapi.Wikipedia('en')\n",
    "\n",
    "for page in pages:\n",
    "    # Get a page\n",
    "    page_py = wiki_wiki.page(page)\n",
    "    print(\"Page: {}\".format(page))\n",
    "    print(\"Title: {}\".format(page_py.title))\n",
    "    print(\"Summary: {:.200}...\".format(page_py.summary))\n",
    "    print()\n",
    "    \n",
    "    # TODO: index that article"
   ]
  },
  {
   "cell_type": "markdown",
   "metadata": {},
   "source": [
    "## Running queries\n",
    "\n",
    "Create some queries that are 'interesting' (and where you could judge what would be sensible results for that query)."
   ]
  },
  {
   "cell_type": "code",
   "execution_count": 3,
   "metadata": {
    "collapsed": false
   },
   "outputs": [
    {
     "name": "stdout",
     "output_type": "stream",
     "text": [
      "Scoring query 'query1'\n",
      "Scoring query 'query2'\n"
     ]
    }
   ],
   "source": [
    "queries = [\"query1\", \"query2\"]\n",
    "\n",
    "for query in queries:\n",
    "    print(\"Scoring query '{}'\".format(query))\n",
    "    # TODO: rank documents and output the top 3 results"
   ]
  },
  {
   "cell_type": "markdown",
   "metadata": {},
   "source": [
    "## Feedback\n",
    "\n",
    "Please give (anonymous) feedback on this exercise by filling out [this form](https://forms.gle/22o3ursi5YsR1Ztb8)."
   ]
  }
 ],
 "metadata": {
  "kernelspec": {
   "display_name": "Python 3",
   "language": "python",
   "name": "python3"
  },
  "language_info": {
   "codemirror_mode": {
    "name": "ipython",
    "version": 3
   },
   "file_extension": ".py",
   "mimetype": "text/x-python",
   "name": "python",
   "nbconvert_exporter": "python",
   "pygments_lexer": "ipython3",
   "version": "3.6.9"
  }
 },
 "nbformat": 4,
 "nbformat_minor": 2
}
