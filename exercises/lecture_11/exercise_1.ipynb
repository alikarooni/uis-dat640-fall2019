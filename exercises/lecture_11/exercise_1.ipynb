{
 "cells": [
  {
   "cell_type": "markdown",
   "metadata": {},
   "source": [
    "# Exercise #1: Rocchio feedback"
   ]
  },
  {
   "cell_type": "markdown",
   "metadata": {},
   "source": [
    "Vocabulary"
   ]
  },
  {
   "cell_type": "code",
   "execution_count": 1,
   "metadata": {
    "collapsed": true
   },
   "outputs": [],
   "source": [
    "voc = [\"news\", \"about\", \"presidental\", \"campaign\", \"food\", \"text\"]"
   ]
  },
  {
   "cell_type": "markdown",
   "metadata": {},
   "source": [
    "Query vector"
   ]
  },
  {
   "cell_type": "code",
   "execution_count": 2,
   "metadata": {
    "collapsed": true
   },
   "outputs": [],
   "source": [
    "q = [1, 1, 1, 1, 0, 0]"
   ]
  },
  {
   "cell_type": "markdown",
   "metadata": {},
   "source": [
    "Document-term matrix (each row corresponds to a document vector)"
   ]
  },
  {
   "cell_type": "code",
   "execution_count": 3,
   "metadata": {
    "collapsed": true
   },
   "outputs": [],
   "source": [
    "dt = [\n",
    "    [1.5, 0.1, 0, 0, 0, 0],\n",
    "    [1.5, 0.1, 0, 2, 2, 0],\n",
    "    [1.5, 0, 3, 2, 0, 0],\n",
    "    [1.5, 0, 4, 2, 0, 0], \n",
    "    [1.5, 0, 0, 6, 2, 0]\n",
    "]"
   ]
  },
  {
   "cell_type": "markdown",
   "metadata": {},
   "source": [
    "Feedback: IDs (indeces) of positive and negative documents"
   ]
  },
  {
   "cell_type": "code",
   "execution_count": 4,
   "metadata": {
    "collapsed": false
   },
   "outputs": [],
   "source": [
    "d_pos = [2, 3]\n",
    "d_neg = [0, 1, 4]"
   ]
  },
  {
   "cell_type": "markdown",
   "metadata": {},
   "source": [
    "Helper method to print a query vector"
   ]
  },
  {
   "cell_type": "code",
   "execution_count": 5,
   "metadata": {
    "collapsed": true
   },
   "outputs": [],
   "source": [
    "def print_query(q_vec):\n",
    "    \"\"\"Prints the query terms with non-zero weight.\"\"\"\n",
    "    if len(q_vec) != len(voc):\n",
    "        raise Exception(\"Dimensionality error\")\n",
    "    for i in range(len(voc)):\n",
    "        if q_vec[i] > 0:\n",
    "            print(\"{:12}: {:05.3f}\".format(voc[i], q_vec[i]))"
   ]
  },
  {
   "cell_type": "markdown",
   "metadata": {},
   "source": [
    "Original query"
   ]
  },
  {
   "cell_type": "code",
   "execution_count": 6,
   "metadata": {
    "collapsed": false
   },
   "outputs": [
    {
     "name": "stdout",
     "output_type": "stream",
     "text": [
      "news        : 1.000\n",
      "about       : 1.000\n",
      "presidental : 1.000\n",
      "campaign    : 1.000\n"
     ]
    }
   ],
   "source": [
    "print_query(q)"
   ]
  },
  {
   "cell_type": "markdown",
   "metadata": {},
   "source": [
    "## Rocchio feedback\n",
    "\n",
    "Compute the updated query according to:\n",
    "$$\\vec{q}_m = \\alpha \\vec{q} + \\frac{\\beta}{|D^+|}\\sum_{d \\in D^+}\\vec{d} - \\frac{\\gamma}{|D^-|}\\sum_{d \\in D^-}\\vec{d}$$\n",
    "\n",
    "where\n",
    "  - $\\vec{d}$ is the original query vector\n",
    "  - $D^+, D^-$ are set of relevant and non-relevant feedback documents\n",
    "  - $\\alpha, \\beta, \\gamma$ are parameters that control the movement of the original vector"
   ]
  },
  {
   "cell_type": "code",
   "execution_count": 7,
   "metadata": {
    "collapsed": true
   },
   "outputs": [],
   "source": [
    "def get_updated_query(q, d_pos, d_neg, alpha, beta, gamma):\n",
    "    q_m = [alpha * t for t in q]\n",
    "    \n",
    "    # TODO complete this part\n",
    "    \n",
    "    return q_m"
   ]
  },
  {
   "cell_type": "code",
   "execution_count": 8,
   "metadata": {
    "collapsed": false
   },
   "outputs": [],
   "source": [
    "q_m = get_updated_query(q, d_pos, d_neg, 0.6, 0.2, 0.2)"
   ]
  },
  {
   "cell_type": "markdown",
   "metadata": {},
   "source": [
    "Print the updated query vector"
   ]
  },
  {
   "cell_type": "code",
   "execution_count": 9,
   "metadata": {
    "collapsed": false
   },
   "outputs": [
    {
     "name": "stdout",
     "output_type": "stream",
     "text": [
      "news        : 0.600\n",
      "about       : 0.600\n",
      "presidental : 0.600\n",
      "campaign    : 0.600\n"
     ]
    }
   ],
   "source": [
    "print_query(q_m)"
   ]
  }
 ],
 "metadata": {
  "kernelspec": {
   "display_name": "Python 3",
   "language": "python",
   "name": "python3"
  },
  "language_info": {
   "codemirror_mode": {
    "name": "ipython",
    "version": 3
   },
   "file_extension": ".py",
   "mimetype": "text/x-python",
   "name": "python",
   "nbconvert_exporter": "python",
   "pygments_lexer": "ipython3",
   "version": "3.6.0"
  }
 },
 "nbformat": 4,
 "nbformat_minor": 2
}
