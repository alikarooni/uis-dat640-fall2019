{
 "cells": [
  {
   "cell_type": "markdown",
   "metadata": {},
   "source": [
    "# Exercise #2: Neural document (re-)ranking"
   ]
  },
  {
   "cell_type": "markdown",
   "metadata": {},
   "source": [
    "Re-rank the documents retrieved for the queries in `data/queries.txt` and evaluate them in terms of NDCG@10.\n",
    "\n",
    "**NOTE**: These are the first 10 queries from Assignment 2B. For computational efficiency, we operate on the `title` field (instead of `content`) and re-rank the top-20 documents retrieved."
   ]
  },
  {
   "cell_type": "code",
   "execution_count": 34,
   "metadata": {
    "collapsed": true
   },
   "outputs": [],
   "source": [
    "import urllib\n",
    "import requests\n",
    "import json\n",
    "import math"
   ]
  },
  {
   "cell_type": "code",
   "execution_count": 23,
   "metadata": {
    "collapsed": true
   },
   "outputs": [],
   "source": [
    "QUERIES_FILE = \"data/queries.txt\"\n",
    "QRELS_FILE = \"data/qrels.csv\"\n",
    "\n",
    "API = \"http://gustav1.ux.uis.no:5002\"\n",
    "MAIN_INDEX = \"clueweb12b\""
   ]
  },
  {
   "cell_type": "markdown",
   "metadata": {},
   "source": [
    "## Loading queries"
   ]
  },
  {
   "cell_type": "code",
   "execution_count": 8,
   "metadata": {
    "collapsed": true
   },
   "outputs": [],
   "source": [
    "def load_queries(query_file):\n",
    "    queries = {}\n",
    "    with open(query_file, \"r\") as fin:\n",
    "        for line in fin.readlines():\n",
    "            qid, query = line.strip().split(\" \", 1)\n",
    "            queries[qid] = query\n",
    "    return queries"
   ]
  },
  {
   "cell_type": "code",
   "execution_count": 9,
   "metadata": {
    "collapsed": false
   },
   "outputs": [],
   "source": [
    "queries = load_queries(QUERIES_FILE)"
   ]
  },
  {
   "cell_type": "markdown",
   "metadata": {},
   "source": [
    "## Loading relevance judments"
   ]
  },
  {
   "cell_type": "code",
   "execution_count": 36,
   "metadata": {
    "collapsed": true
   },
   "outputs": [],
   "source": [
    "def load_qrels(qrels_file):\n",
    "    qrels = {}  # holds a list of relevant documents for each queryID\n",
    "    with open(qrels_file, \"r\") as fin:\n",
    "        header = fin.readline().strip()\n",
    "        if header != \"QueryId,DocumentId,Relevance\":\n",
    "            raise Exception(\"Incorrect file format!\")\n",
    "        for line in fin.readlines():\n",
    "            qid, docid, rel = line.strip().split(\",\")\n",
    "            if qid not in qrels:\n",
    "                qrels[qid] = {}\n",
    "            qrels[qid][docid] = int(rel)\n",
    "    return qrels "
   ]
  },
  {
   "cell_type": "code",
   "execution_count": 37,
   "metadata": {
    "collapsed": false
   },
   "outputs": [],
   "source": [
    "qrels = load_qrels(QRELS_FILE)"
   ]
  },
  {
   "cell_type": "markdown",
   "metadata": {},
   "source": [
    "## Baseline retrieval"
   ]
  },
  {
   "cell_type": "code",
   "execution_count": 26,
   "metadata": {
    "collapsed": true
   },
   "outputs": [],
   "source": [
    "def search(indexname, query, field, size=10):\n",
    "    url = \"/\".join([API, indexname, \"_search\"]) + \"?\" \\\n",
    "          + urllib.parse.urlencode({\"q\": query, \"df\": field, \"size\": size})\n",
    "    response = requests.get(url).text\n",
    "    return json.loads(response)"
   ]
  },
  {
   "cell_type": "code",
   "execution_count": 45,
   "metadata": {
    "collapsed": true
   },
   "outputs": [],
   "source": [
    "def term_vectors(indexname, doc_id, term_statistics=False):\n",
    "    ret = {}    \n",
    "    url = \"/\".join([API, indexname, doc_id, \"_termvectors\"]) + \"?\" \\\n",
    "          + urllib.parse.urlencode({\"term_statistics\": str(term_statistics).lower()})\n",
    "    response = requests.get(url).text\n",
    "    try:\n",
    "        ret = json.loads(response)\n",
    "    except:\n",
    "        print(\"Failed to json-decode this response:\\n{}\".format(response))\n",
    "    return ret"
   ]
  },
  {
   "cell_type": "code",
   "execution_count": 54,
   "metadata": {
    "collapsed": false
   },
   "outputs": [],
   "source": [
    "rankings = {}\n",
    "for qid, query in queries.items():\n",
    "    rankings[qid] = []\n",
    "    res = search(MAIN_INDEX, query, \"title\", size=20)\n",
    "    for doc in res.get('hits', {}).get(\"hits\", {}):\n",
    "        rankings[qid].append(doc.get(\"_id\"))    "
   ]
  },
  {
   "cell_type": "markdown",
   "metadata": {
    "collapsed": true
   },
   "source": [
    "## Evaluation"
   ]
  },
  {
   "cell_type": "code",
   "execution_count": 57,
   "metadata": {
    "collapsed": true
   },
   "outputs": [],
   "source": [
    "def dcg(rel, p):\n",
    "    dcg = rel[0]\n",
    "    for i in range(1, min(p, len(rel))): \n",
    "        dcg += rel[i] / math.log(i + 1, 2)  # rank position is indexed from 1..\n",
    "    return dcg\n",
    "\n",
    "def get_ndcg_rankings(rankings, qrels, k=10):\n",
    "    sum_ndcg = 0\n",
    "    for qid, ranking in sorted(rankings.items()):\n",
    "        gt = qrels[qid]    \n",
    "        gains = [] # holds corresponding relevance levels for the ranked docs\n",
    "        for doc_id in ranking[:k]: \n",
    "            gain = gt.get(doc_id, 0)\n",
    "            gains.append(gain)\n",
    "\n",
    "        # relevance levels of the idealized ranking\n",
    "        gain_ideal = sorted([v for _, v in gt.items()], reverse=True)\n",
    "\n",
    "        ndcg = dcg(gains, k) / dcg(gain_ideal, k)\n",
    "        sum_ndcg += ndcg\n",
    "\n",
    "    return sum_ndcg / len(rankings)"
   ]
  },
  {
   "cell_type": "code",
   "execution_count": 58,
   "metadata": {
    "collapsed": false
   },
   "outputs": [
    {
     "name": "stdout",
     "output_type": "stream",
     "text": [
      "0.06814317459580331\n"
     ]
    }
   ],
   "source": [
    "print(get_ndcg_rankings(rankings, qrels))"
   ]
  },
  {
   "cell_type": "markdown",
   "metadata": {
    "collapsed": true
   },
   "source": [
    "## Neural re-ranking"
   ]
  },
  {
   "cell_type": "markdown",
   "metadata": {},
   "source": [
    "Re-rank the top-100 documents by calculating the cosine similarity between the centroids of the document and query word embeddings. Specifically, \n",
    "\n",
    "  1. Represent both the query and the document as the centroid of their term embedding vectors. Specifically, compute $\\vec{q}$ by setting the $i$th vector dimension as $$\\vec{q}[i]=\\frac{\\sum_{j=1}^m \\vec{q_j}[i]}{m}$$ where $\\vec{q_j}$ is the (pre-trained) embedding vector of $j$th query term and $m$ is the length of the query. The computation of $\\vec{d}$ follows analogously.\n",
    "  2. Then, score documents by compute the cosine similarity between $\\vec{q}$ and $\\vec{d}$. "
   ]
  },
  {
   "cell_type": "markdown",
   "metadata": {},
   "source": [
    "### Loading pre-trained embeddings"
   ]
  },
  {
   "cell_type": "code",
   "execution_count": 17,
   "metadata": {
    "collapsed": false
   },
   "outputs": [],
   "source": [
    "import gensim.downloader as api\n",
    "from gensim.models import Word2Vec"
   ]
  },
  {
   "cell_type": "code",
   "execution_count": 18,
   "metadata": {
    "collapsed": false
   },
   "outputs": [
    {
     "name": "stdout",
     "output_type": "stream",
     "text": [
      "[==================================================] 100.0% 1662.8/1662.8MB downloaded\n"
     ]
    }
   ],
   "source": [
    "import gensim.downloader as api\n",
    "model = api.load('word2vec-google-news-300')"
   ]
  },
  {
   "cell_type": "code",
   "execution_count": 19,
   "metadata": {
    "collapsed": false
   },
   "outputs": [
    {
     "name": "stdout",
     "output_type": "stream",
     "text": [
      "[ 0.32617188  0.13085938  0.03466797 -0.08300781  0.08984375 -0.04125977\n",
      " -0.19824219  0.00689697  0.14355469  0.0019455   0.02880859 -0.25\n",
      " -0.08398438 -0.15136719 -0.10205078  0.04077148 -0.09765625  0.05932617\n",
      "  0.02978516 -0.10058594 -0.13085938  0.001297    0.02612305 -0.27148438\n",
      "  0.06396484 -0.19140625 -0.078125    0.25976562  0.375      -0.04541016\n",
      "  0.16210938  0.13671875 -0.06396484 -0.02062988 -0.09667969  0.25390625\n",
      "  0.24804688 -0.12695312  0.07177734  0.3203125   0.03149414 -0.03857422\n",
      "  0.21191406 -0.00811768  0.22265625 -0.13476562 -0.07617188  0.01049805\n",
      " -0.05175781  0.03808594 -0.13378906  0.125       0.0559082  -0.18261719\n",
      "  0.08154297 -0.08447266 -0.07763672 -0.04345703  0.08105469 -0.01092529\n",
      "  0.17480469  0.30664062 -0.04321289 -0.01416016  0.09082031 -0.00927734\n",
      " -0.03442383 -0.11523438  0.12451172 -0.0246582   0.08544922  0.14355469\n",
      " -0.27734375  0.03662109 -0.11035156  0.13085938 -0.01721191 -0.08056641\n",
      " -0.00708008 -0.02954102  0.30078125 -0.09033203  0.03149414 -0.18652344\n",
      " -0.11181641  0.10253906 -0.25976562 -0.02209473  0.16796875 -0.05322266\n",
      " -0.14550781 -0.01049805 -0.03039551 -0.03857422  0.11523438 -0.0062561\n",
      " -0.13964844  0.08007812  0.06103516 -0.15332031 -0.11132812 -0.14160156\n",
      "  0.19824219 -0.06933594  0.29296875 -0.16015625  0.20898438  0.00041771\n",
      "  0.01831055 -0.20214844  0.04760742  0.05810547 -0.0123291  -0.01989746\n",
      " -0.00364685 -0.0135498  -0.08251953 -0.03149414  0.00717163  0.20117188\n",
      "  0.08300781 -0.0480957  -0.26367188 -0.09667969 -0.22558594 -0.09667969\n",
      "  0.06494141 -0.02502441  0.08496094  0.03198242 -0.07568359 -0.25390625\n",
      " -0.11669922 -0.01446533 -0.16015625 -0.00701904 -0.05712891  0.02807617\n",
      " -0.09179688  0.25195312  0.24121094  0.06640625  0.12988281  0.17089844\n",
      " -0.13671875  0.1875     -0.10009766 -0.04199219 -0.12011719  0.00524902\n",
      "  0.15625    -0.203125   -0.07128906 -0.06103516  0.01635742  0.18261719\n",
      "  0.03588867 -0.04248047  0.16796875 -0.15039062 -0.16992188  0.01831055\n",
      "  0.27734375 -0.01269531 -0.0390625  -0.15429688  0.18457031 -0.07910156\n",
      "  0.09033203 -0.02709961  0.08251953  0.06738281 -0.16113281 -0.19628906\n",
      " -0.15234375 -0.04711914  0.04760742  0.05908203 -0.16894531 -0.14941406\n",
      "  0.12988281  0.04321289  0.02624512 -0.1796875  -0.19628906  0.06445312\n",
      "  0.08935547  0.1640625  -0.03808594 -0.09814453 -0.01483154  0.1875\n",
      "  0.12792969  0.22753906  0.01818848 -0.07958984 -0.11376953 -0.06933594\n",
      " -0.15527344 -0.08105469 -0.09277344 -0.11328125 -0.15136719 -0.08007812\n",
      " -0.05126953 -0.15332031  0.11669922  0.06835938  0.0324707  -0.33984375\n",
      " -0.08154297 -0.08349609  0.04003906  0.04907227 -0.24121094 -0.13476562\n",
      " -0.05932617  0.12158203 -0.34179688  0.16503906  0.06176758 -0.18164062\n",
      "  0.20117188 -0.07714844  0.1640625   0.00402832  0.30273438 -0.10009766\n",
      " -0.13671875 -0.05957031  0.0625     -0.21289062 -0.06542969  0.1796875\n",
      " -0.07763672 -0.01928711 -0.15039062 -0.00106049  0.03417969  0.03344727\n",
      "  0.19335938  0.01965332 -0.19921875 -0.10644531  0.01525879  0.00927734\n",
      "  0.01416016 -0.02392578  0.05883789  0.02368164  0.125       0.04760742\n",
      " -0.05566406  0.11572266  0.14746094  0.1015625  -0.07128906 -0.07714844\n",
      " -0.12597656  0.0291748   0.09521484 -0.12402344 -0.109375   -0.12890625\n",
      "  0.16308594  0.28320312 -0.03149414  0.12304688 -0.23242188 -0.09375\n",
      " -0.12988281  0.0135498  -0.03881836 -0.08251953  0.00897217  0.16308594\n",
      "  0.10546875 -0.13867188 -0.16503906 -0.03857422  0.10839844 -0.10498047\n",
      "  0.06396484  0.38867188 -0.05981445 -0.0612793  -0.10449219 -0.16796875\n",
      "  0.07177734  0.13964844  0.15527344 -0.03125    -0.20214844 -0.12988281\n",
      " -0.10058594 -0.06396484 -0.08349609 -0.30273438 -0.08007812  0.02099609]\n"
     ]
    },
    {
     "name": "stderr",
     "output_type": "stream",
     "text": [
      "//anaconda/lib/python3.6/site-packages/ipykernel/__main__.py:2: DeprecationWarning: Call to deprecated `wv` (Attribute will be removed in 4.0.0, use self instead).\n",
      "  from ipykernel import kernelapp as app\n"
     ]
    }
   ],
   "source": [
    "# Example: getting the embedding vector of a given word\n",
    "print(model.wv['man'])"
   ]
  },
  {
   "cell_type": "markdown",
   "metadata": {},
   "source": [
    "### Neural re-ranking"
   ]
  },
  {
   "cell_type": "code",
   "execution_count": 51,
   "metadata": {
    "collapsed": true
   },
   "outputs": [],
   "source": [
    "import numpy as np"
   ]
  },
  {
   "cell_type": "code",
   "execution_count": 52,
   "metadata": {
    "collapsed": true
   },
   "outputs": [],
   "source": [
    "def cosine_sim(vec_a, vec_b):\n",
    "    dot = np.dot(vec_a, vec_b)\n",
    "    norma = np.linalg.norm(vec_a)\n",
    "    normb = np.linalg.norm(vec_b)\n",
    "    return dot / (norma * normb)"
   ]
  },
  {
   "cell_type": "code",
   "execution_count": 59,
   "metadata": {
    "collapsed": false
   },
   "outputs": [
    {
     "name": "stdout",
     "output_type": "stream",
     "text": [
      "Reranking for query 201\n",
      "clueweb12-0508wb-36-14116\n",
      "clueweb12-1812wb-36-11474\n",
      "clueweb12-0906wb-09-33744\n",
      "clueweb12-0906wb-96-33932\n",
      "clueweb12-0906wb-67-25261\n",
      "clueweb12-0902wb-72-11855\n",
      "clueweb12-1205wb-78-13462\n",
      "clueweb12-0500tw-17-18276\n",
      "clueweb12-1205wb-35-08540\n",
      "clueweb12-1102wb-91-12621\n",
      "clueweb12-0100tw-52-01034\n",
      "clueweb12-0307wb-47-02869\n",
      "clueweb12-1111wb-41-15778\n",
      "clueweb12-0909wb-35-26187\n",
      "clueweb12-1100tw-55-13200\n",
      "clueweb12-0200tw-42-04809\n",
      "clueweb12-1201tw-23-04915\n",
      "clueweb12-1604wb-20-11054\n",
      "clueweb12-0908wb-09-14789\n",
      "clueweb12-1716wb-66-00027\n",
      "Reranking for query 202\n",
      "clueweb12-1705wb-22-13047\n",
      "clueweb12-1116wb-12-30914\n",
      "clueweb12-1707wb-98-07904\n",
      "clueweb12-0002wb-14-02885\n",
      "clueweb12-0305wb-35-13201\n",
      "clueweb12-1013wb-15-21838\n",
      "clueweb12-1116wb-59-18964\n",
      "clueweb12-0203wb-91-06006\n",
      "clueweb12-0601wb-18-11856\n",
      "clueweb12-0610wb-53-03244\n",
      "clueweb12-1900tw-53-20555\n",
      "clueweb12-1212wb-02-13082\n",
      "clueweb12-0814wb-20-13703\n",
      "clueweb12-1215wb-33-08369\n",
      "clueweb12-0503wb-31-31475\n",
      "clueweb12-0503wb-68-11823\n",
      "clueweb12-1311wb-63-09800\n",
      "clueweb12-0109wb-37-32328\n",
      "clueweb12-0109wb-45-24370\n",
      "clueweb12-0109wb-25-00167\n",
      "Reranking for query 203\n",
      "clueweb12-0310wb-22-09840\n",
      "clueweb12-0501wb-93-24715\n",
      "clueweb12-0202wb-27-03322\n",
      "clueweb12-1205wb-29-13782\n",
      "clueweb12-1503wb-37-03952\n",
      "clueweb12-0712wb-43-02163\n",
      "clueweb12-0807wb-64-18762\n",
      "clueweb12-1616wb-49-07379\n",
      "clueweb12-0004wb-09-19720\n",
      "clueweb12-0205wb-45-25113\n",
      "clueweb12-0100wb-33-21094\n",
      "clueweb12-1015wb-17-01041\n",
      "clueweb12-0701wb-54-09210\n",
      "clueweb12-0716wb-02-11754\n",
      "clueweb12-1301wb-50-04494\n",
      "clueweb12-0500tw-26-08047\n",
      "clueweb12-0103wb-73-07361\n",
      "clueweb12-0603wb-99-17974\n",
      "clueweb12-0803wb-21-07780\n",
      "clueweb12-0306wb-86-03107\n",
      "Reranking for query 204\n",
      "clueweb12-0900tw-81-15437\n",
      "clueweb12-1308wb-72-09405\n",
      "clueweb12-1308wb-66-17902\n",
      "clueweb12-1810wb-62-25081\n",
      "clueweb12-1207wb-30-12502\n",
      "clueweb12-1607wb-98-27514\n",
      "clueweb12-1211wb-04-16657\n",
      "clueweb12-0103wb-16-10147\n",
      "clueweb12-0206wb-97-03262\n",
      "clueweb12-1304wb-08-03473\n",
      "clueweb12-0500wb-07-12410\n",
      "clueweb12-0207wb-10-30448\n",
      "clueweb12-0005wb-81-13525\n",
      "clueweb12-0207wb-81-27669\n",
      "clueweb12-0209wb-92-06352\n",
      "clueweb12-0110wb-19-24527\n",
      "clueweb12-1801wb-85-15691\n",
      "clueweb12-0207wb-85-00335\n",
      "clueweb12-0301wb-76-26150\n",
      "clueweb12-0504wb-78-28164\n",
      "Reranking for query 205\n",
      "clueweb12-1603wb-09-04376\n",
      "clueweb12-1300wb-54-07130\n",
      "clueweb12-0202wb-46-09258\n",
      "clueweb12-0408wb-62-31294\n",
      "clueweb12-0911wb-16-06046\n",
      "clueweb12-1902wb-45-19243\n",
      "clueweb12-0808wb-90-07653\n",
      "clueweb12-1513wb-74-27587\n",
      "clueweb12-1812wb-88-04452\n",
      "clueweb12-0000wb-15-37815\n",
      "clueweb12-0010wb-63-06500\n",
      "clueweb12-1403wb-82-23460\n",
      "clueweb12-1715wb-49-22410\n",
      "clueweb12-0013wb-82-15853\n",
      "clueweb12-0609wb-23-22323\n",
      "clueweb12-1905wb-50-19056\n",
      "clueweb12-0008wb-12-23845\n",
      "clueweb12-0301wb-14-26595\n",
      "clueweb12-1407wb-40-01189\n",
      "clueweb12-0204wb-76-07945\n",
      "Reranking for query 206\n",
      "clueweb12-0304wb-43-11443\n",
      "clueweb12-0610wb-67-29514\n",
      "clueweb12-0104wb-22-16707\n",
      "clueweb12-0210wb-46-07247\n",
      "clueweb12-1206wb-30-11885\n",
      "clueweb12-0611wb-50-10671\n",
      "clueweb12-0011wb-30-05409\n",
      "clueweb12-0007wb-98-27962\n",
      "clueweb12-0508wb-90-13471\n",
      "clueweb12-1414wb-58-27467\n",
      "clueweb12-1805wb-09-10527\n",
      "clueweb12-1314wb-03-12802\n",
      "clueweb12-0009wb-34-13545\n",
      "clueweb12-1205wb-25-14269\n",
      "clueweb12-1810wb-70-18852\n",
      "clueweb12-0407wb-47-14537\n",
      "clueweb12-1000wb-48-21576\n",
      "clueweb12-1504wb-50-22520\n",
      "clueweb12-1902wb-78-22541\n",
      "clueweb12-0205wb-69-05839\n",
      "Reranking for query 207\n",
      "clueweb12-0717wb-32-07044\n",
      "clueweb12-0107wb-71-27159\n",
      "clueweb12-1205wb-36-28252\n",
      "clueweb12-1415wb-39-23201\n",
      "clueweb12-0804wb-43-08700\n",
      "clueweb12-0813wb-58-16452\n",
      "clueweb12-0511wb-01-02829\n",
      "clueweb12-1204wb-45-18869\n",
      "clueweb12-1701wb-62-18093\n",
      "clueweb12-1616wb-77-07121\n",
      "clueweb12-1216wb-77-33105\n",
      "clueweb12-1100tw-60-13329\n",
      "clueweb12-0209wb-70-26757\n",
      "clueweb12-0003wb-49-00587\n",
      "clueweb12-0909wb-59-26161\n",
      "clueweb12-0509wb-07-05163\n",
      "clueweb12-0806wb-67-24253\n",
      "clueweb12-1415wb-41-33608\n",
      "clueweb12-0009wb-89-28318\n",
      "clueweb12-1501tw-08-01904\n",
      "Reranking for query 208\n",
      "clueweb12-1011wb-62-00443\n",
      "clueweb12-1612wb-18-22030\n",
      "clueweb12-1611wb-58-24738\n",
      "clueweb12-0206wb-59-19406\n",
      "clueweb12-0804wb-90-09490\n",
      "clueweb12-0003wb-50-16116\n",
      "clueweb12-0810wb-04-13355\n",
      "clueweb12-0700tw-75-14955\n",
      "clueweb12-1007wb-89-08055\n",
      "clueweb12-1207wb-81-14962\n",
      "clueweb12-1908wb-77-16099\n",
      "clueweb12-1021wb-13-05968\n",
      "clueweb12-0905wb-14-21975\n",
      "clueweb12-0813wb-29-16299\n",
      "clueweb12-0600tw-35-02534\n",
      "clueweb12-1414wb-05-08095\n",
      "clueweb12-1509wb-88-17549\n",
      "clueweb12-0309wb-12-17739\n",
      "clueweb12-0408wb-78-06610\n",
      "clueweb12-0510wb-83-30810\n",
      "Reranking for query 209\n",
      "clueweb12-0606wb-10-03501\n",
      "clueweb12-1814wb-17-25231\n",
      "clueweb12-0211wb-99-27156\n",
      "clueweb12-0301wb-72-04109\n",
      "clueweb12-0811wb-52-01249\n",
      "clueweb12-1911wb-88-22714\n",
      "clueweb12-1610wb-08-13221\n",
      "clueweb12-1814wb-86-02901\n",
      "clueweb12-1300tw-71-18310\n",
      "clueweb12-1813wb-52-06492\n",
      "clueweb12-1810wb-54-03636\n",
      "clueweb12-1810wb-71-24911\n",
      "clueweb12-1608wb-29-04093\n",
      "clueweb12-1608wb-19-04995\n",
      "clueweb12-0305wb-71-07554\n",
      "clueweb12-1812wb-72-28190\n",
      "clueweb12-1608wb-13-11183\n",
      "clueweb12-1813wb-20-10940\n",
      "clueweb12-0907wb-96-05524\n",
      "clueweb12-1812wb-04-05274\n",
      "Reranking for query 210\n",
      "clueweb12-0111wb-39-00027\n",
      "clueweb12-0914wb-78-15579\n",
      "clueweb12-0913wb-44-34462\n",
      "clueweb12-0914wb-41-31023\n",
      "clueweb12-0914wb-85-30981\n",
      "clueweb12-0913wb-51-28457\n",
      "clueweb12-0912wb-87-05719\n",
      "clueweb12-0913wb-12-08534\n",
      "clueweb12-0912wb-55-04636\n",
      "clueweb12-0914wb-38-09530\n",
      "clueweb12-0912wb-79-01432\n",
      "clueweb12-0913wb-22-18799\n",
      "clueweb12-0914wb-07-25934\n",
      "clueweb12-0914wb-13-33325\n",
      "clueweb12-0914wb-50-13020\n",
      "clueweb12-0913wb-22-18813\n",
      "clueweb12-0914wb-71-12052\n",
      "clueweb12-1901wb-80-07058\n",
      "clueweb12-0507wb-16-28751\n",
      "clueweb12-0400wb-20-26102\n"
     ]
    }
   ],
   "source": [
    "rankings_nn = {}\n",
    "for qid, docs in rankings.items():\n",
    "    print(\"Reranking for query {}\".format(qid))\n",
    "    # TODO: Compute the query embedding vector as the centroid of the query term's embedding vectors\n",
    "    query_vec = [1, 1, 0, 0]  # Note: these are just dummy values\n",
    "    scores = {}\n",
    "    for docid in docs:\n",
    "        print(docid)\n",
    "        # TODO: Compute the doc embedding vector as the centroid of embedding vectors of the terms in the doc's title\n",
    "        doc_vec = [1, 0, 0, 0]  # Note: these are just dummy values\n",
    "        # iterate through the terms in the title field\n",
    "        tv = term_vectors(MAIN_INDEX, docid, term_statistics=True)['term_vectors']['title']\n",
    "        for term in tv['terms']:\n",
    "            # TODO: get the embedding vector of `term` and update `doc_vec`\n",
    "            pass\n",
    "        scores[docid] = cosine_sim(query_vec, doc_vec)\n",
    "\n",
    "    # sort documents by score\n",
    "    rankings_nn[qid] = []\n",
    "    for docid in sorted(scores, key=scores.get, reverse=True):\n",
    "        rankings_nn[qid].append(docid)"
   ]
  },
  {
   "cell_type": "markdown",
   "metadata": {},
   "source": [
    "## Evaluate your ranking"
   ]
  },
  {
   "cell_type": "code",
   "execution_count": 60,
   "metadata": {
    "collapsed": false
   },
   "outputs": [
    {
     "name": "stdout",
     "output_type": "stream",
     "text": [
      "0.06814317459580331\n"
     ]
    }
   ],
   "source": [
    "print(get_ndcg_rankings(rankings_nn, qrels))"
   ]
  },
  {
   "cell_type": "markdown",
   "metadata": {},
   "source": [
    "## (Optional) Combining rankings"
   ]
  },
  {
   "cell_type": "markdown",
   "metadata": {},
   "source": [
    "Instead of using the cosine similarity alone for ranking, you may combine it linearly with the original (BM25) retrieval score."
   ]
  },
  {
   "cell_type": "code",
   "execution_count": 43,
   "metadata": {
    "collapsed": true
   },
   "outputs": [],
   "source": [
    "# TODO"
   ]
  }
 ],
 "metadata": {
  "kernelspec": {
   "display_name": "Python 3",
   "language": "python",
   "name": "python3"
  },
  "language_info": {
   "codemirror_mode": {
    "name": "ipython",
    "version": 3
   },
   "file_extension": ".py",
   "mimetype": "text/x-python",
   "name": "python",
   "nbconvert_exporter": "python",
   "pygments_lexer": "ipython3",
   "version": "3.6.9"
  }
 },
 "nbformat": 4,
 "nbformat_minor": 2
}
