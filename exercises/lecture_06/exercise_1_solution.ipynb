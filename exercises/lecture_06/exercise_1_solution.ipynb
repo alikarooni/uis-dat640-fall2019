{
 "cells": [
  {
   "cell_type": "markdown",
   "metadata": {},
   "source": [
    "# Exercise #1: Computing the similarity between term vectors"
   ]
  },
  {
   "cell_type": "markdown",
   "metadata": {},
   "source": [
    "## Jaccard similarity\n",
    "\n",
    "This metric is a set similarity; that is, it only captures the presence and absence of terms with no regard to their frequency. Put simply, it captures the ratio of shared terms and total terms in the two documents.\n",
    "\n",
    "$$sim_{Jaccard} = \\frac{|X \\cap Y|}{|X \\cup Y|}$$\n",
    "\n",
    "where $X$ and $Y$ denote the set of terms in documents $x$ and $y$, respectively."
   ]
  },
  {
   "cell_type": "code",
   "execution_count": 1,
   "metadata": {
    "collapsed": true
   },
   "outputs": [],
   "source": [
    "def jaccard(x, y):\n",
    "    \"\"\"Computes the Jaccard similarity between two term vectors.\"\"\"\n",
    "    num_both = 0\n",
    "    num_either = 0\n",
    "    for xi, yi in zip(x, y):\n",
    "        num_both += int(xi > 0 and yi > 0)\n",
    "        num_either += int(xi > 0 or yi > 0)\n",
    "    return num_both / num_either"
   ]
  },
  {
   "cell_type": "code",
   "execution_count": 2,
   "metadata": {
    "collapsed": false
   },
   "outputs": [
    {
     "name": "stderr",
     "output_type": "stream",
     "text": [
      "test_no_common_terms (__main__.TestJaccard) ... ok\n",
      "test_only_common_terms (__main__.TestJaccard) ... ok\n",
      "test_some_common_terms (__main__.TestJaccard) ... ok\n",
      "\n",
      "----------------------------------------------------------------------\n",
      "Ran 3 tests in 0.004s\n",
      "\n",
      "OK\n"
     ]
    },
    {
     "data": {
      "text/plain": [
       "<unittest.main.TestProgram at 0x10d563160>"
      ]
     },
     "execution_count": 2,
     "metadata": {},
     "output_type": "execute_result"
    }
   ],
   "source": [
    "import unittest\n",
    "\n",
    "class TestJaccard(unittest.TestCase):\n",
    "\n",
    "    def test_no_common_terms(self):\n",
    "        x = [0, 0, 0, 1, 2, 1]\n",
    "        y = [1, 5, 3, 0, 0, 0]\n",
    "        self.assertEqual(jaccard(x, y), 0)\n",
    "\n",
    "    def test_only_common_terms(self):\n",
    "        x = [0, 1, 2, 1, 0, 1]\n",
    "        y = [0, 5, 3, 7, 0, 1]\n",
    "        self.assertEqual(jaccard(x, y), 1)\n",
    "\n",
    "    def test_some_common_terms(self):\n",
    "        x = [0, 1, 1, 0, 1, 1]\n",
    "        y = [5, 0, 3, 0, 7, 0]\n",
    "        self.assertEqual(jaccard(x, y), 0.4)\n",
    "        \n",
    "        \n",
    "unittest.main(argv=['-q', 'TestJaccard'], verbosity=2, exit=False)"
   ]
  },
  {
   "cell_type": "markdown",
   "metadata": {},
   "source": [
    "## Cosine similarity\n",
    "\n",
    "$$sim_{cos}(x,y) = \\frac{\\mathbf{x} \\cdot \\mathbf{y}}{||\\mathbf{x}||~||\\mathbf{y}||} = \\frac{\\sum_{i=1}^n x_i y_i}{\\sqrt{\\sum_{i=1}^n x_i^2} \\sqrt{\\sum_{i=1}^n y_i^2}}$$"
   ]
  },
  {
   "cell_type": "code",
   "execution_count": 3,
   "metadata": {
    "collapsed": true
   },
   "outputs": [],
   "source": [
    "import math\n",
    "\n",
    "def cosine(x, y):\n",
    "    \"\"\"Computes the Cosine similarity between two term vectors.\"\"\"\n",
    "    dot_product = 0\n",
    "    x_len = 0\n",
    "    y_len = 0\n",
    "    for xi, yi in zip(x, y):\n",
    "        dot_product += xi * yi\n",
    "        x_len += xi ** 2\n",
    "        y_len += yi ** 2\n",
    "        \n",
    "    return dot_product / (math.sqrt(x_len) * math.sqrt(y_len))"
   ]
  },
  {
   "cell_type": "code",
   "execution_count": 4,
   "metadata": {
    "collapsed": false
   },
   "outputs": [
    {
     "name": "stderr",
     "output_type": "stream",
     "text": [
      "test_identical_docs (__main__.TestCosine) ... ok\n",
      "test_no_common_terms (__main__.TestCosine) ... ok\n",
      "test_short_docs (__main__.TestCosine) ... ok\n",
      "\n",
      "----------------------------------------------------------------------\n",
      "Ran 3 tests in 0.004s\n",
      "\n",
      "OK\n"
     ]
    },
    {
     "data": {
      "text/plain": [
       "<unittest.main.TestProgram at 0x10d636860>"
      ]
     },
     "execution_count": 4,
     "metadata": {},
     "output_type": "execute_result"
    }
   ],
   "source": [
    "class TestCosine(unittest.TestCase):\n",
    "\n",
    "    def test_no_common_terms(self):\n",
    "        x = [0, 0, 0, 1, 2, 1]\n",
    "        y = [1, 5, 3, 0, 0, 0]\n",
    "        self.assertEqual(cosine(x, y), 0)\n",
    "        \n",
    "    def test_identical_docs(self):\n",
    "        x = [0, 0, 0, 1, 2, 1]\n",
    "        self.assertAlmostEqual(cosine(x, x), 1.0, places=4)\n",
    "\n",
    "    def test_short_docs(self):\n",
    "        x = [4, 2]\n",
    "        y = [1, 3]\n",
    "        self.assertAlmostEqual(cosine(x, y), math.sqrt(2) / 2, places=4)\n",
    "        \n",
    "unittest.main(argv=['-q', 'TestCosine'], verbosity=2, exit=False)"
   ]
  },
  {
   "cell_type": "markdown",
   "metadata": {},
   "source": [
    "## Feedback\n",
    "\n",
    "Please give (anonymous) feedback on this exercise by filling out [this form](https://forms.gle/22o3ursi5YsR1Ztb8)."
   ]
  }
 ],
 "metadata": {
  "kernelspec": {
   "display_name": "Python 3",
   "language": "python",
   "name": "python3"
  },
  "language_info": {
   "codemirror_mode": {
    "name": "ipython",
    "version": 3
   },
   "file_extension": ".py",
   "mimetype": "text/x-python",
   "name": "python",
   "nbconvert_exporter": "python",
   "pygments_lexer": "ipython3",
   "version": "3.6.0"
  }
 },
 "nbformat": 4,
 "nbformat_minor": 2
}
