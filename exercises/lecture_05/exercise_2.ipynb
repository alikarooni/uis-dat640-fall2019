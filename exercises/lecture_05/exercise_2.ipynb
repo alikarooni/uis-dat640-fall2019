{
 "cells": [
  {
   "cell_type": "markdown",
   "metadata": {},
   "source": [
    "# Exercise 2: Naive Bayes text classifier"
   ]
  },
  {
   "cell_type": "markdown",
   "metadata": {},
   "source": [
    "### Training\n",
    "\n",
    "  - Calculate $P(y)$ for each class label in the training data\n",
    "  - Calculate $P(x_i|y)$ for each feature (term) for each class label in the training data \n",
    "  \n",
    "$$P(x_i|y)=\\frac{c_{i,y} + 1}{c_i + m}$$\n",
    "\n",
    "where \n",
    "  - $c_{i,y}$ is the number of times term $x_i$ appears in class $y$\n",
    "  - $c_i$ is the total number of times term $x_i$ appears in the collection\n",
    "  - $m$ is the number of classes\n",
    "\n",
    "\n",
    "### Applying the model\n",
    "\n",
    "Return the $y \\in Y$ that maximizes $P(y) \\prod_{i=1}^n P(x_i|y)$.\n",
    "\n",
    "Perform the computations in the log domain, that is, $\\log P(y) +  \\sum_{i=1}^n \\log P(x_i|y)$."
   ]
  },
  {
   "cell_type": "code",
   "execution_count": 2,
   "metadata": {
    "collapsed": false
   },
   "outputs": [],
   "source": [
    "class NBClassifier:\n",
    "\n",
    "    def train(self, documents, labels):\n",
    "        # TODO\n",
    "        pass\n",
    "    \n",
    "    def predict(self, document):\n",
    "        # TODO\n",
    "        pass"
   ]
  }
 ],
 "metadata": {
  "kernelspec": {
   "display_name": "Python 3",
   "language": "python",
   "name": "python3"
  },
  "language_info": {
   "codemirror_mode": {
    "name": "ipython",
    "version": 3
   },
   "file_extension": ".py",
   "mimetype": "text/x-python",
   "name": "python",
   "nbconvert_exporter": "python",
   "pygments_lexer": "ipython3",
   "version": "3.6.0"
  }
 },
 "nbformat": 4,
 "nbformat_minor": 2
}
