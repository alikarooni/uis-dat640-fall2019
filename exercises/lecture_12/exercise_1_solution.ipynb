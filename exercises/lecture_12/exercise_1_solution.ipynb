{
 "cells": [
  {
   "cell_type": "markdown",
   "metadata": {},
   "source": [
    "# Exercise #1: Indexing using Elasticsearch\n",
    "\n",
    "Index the sample document using Elasticsearch.\n",
    "The parsing code is already provided."
   ]
  },
  {
   "cell_type": "markdown",
   "metadata": {},
   "source": [
    "## Initialize Elasticsearch"
   ]
  },
  {
   "cell_type": "code",
   "execution_count": 9,
   "metadata": {
    "collapsed": true
   },
   "outputs": [],
   "source": [
    "from elasticsearch import Elasticsearch"
   ]
  },
  {
   "cell_type": "code",
   "execution_count": 10,
   "metadata": {
    "collapsed": true
   },
   "outputs": [],
   "source": [
    "es = Elasticsearch()"
   ]
  },
  {
   "cell_type": "markdown",
   "metadata": {},
   "source": [
    "Checking if service is running."
   ]
  },
  {
   "cell_type": "code",
   "execution_count": 11,
   "metadata": {
    "collapsed": false
   },
   "outputs": [
    {
     "data": {
      "text/plain": [
       "{'cluster_name': 'elasticsearch',\n",
       " 'cluster_uuid': 'LMlf8WX9RPC0aJ0eB5R69Q',\n",
       " 'name': 'Krisztians-MacBook-Pro.local',\n",
       " 'tagline': 'You Know, for Search',\n",
       " 'version': {'build_date': '2019-09-27T08:36:48.569419Z',\n",
       "  'build_flavor': 'default',\n",
       "  'build_hash': '22e1767283e61a198cb4db791ea66e3f11ab9910',\n",
       "  'build_snapshot': False,\n",
       "  'build_type': 'tar',\n",
       "  'lucene_version': '8.2.0',\n",
       "  'minimum_index_compatibility_version': '6.0.0-beta1',\n",
       "  'minimum_wire_compatibility_version': '6.8.0',\n",
       "  'number': '7.4.0'}}"
      ]
     },
     "execution_count": 11,
     "metadata": {},
     "output_type": "execute_result"
    }
   ],
   "source": [
    "es.info()"
   ]
  },
  {
   "cell_type": "markdown",
   "metadata": {},
   "source": [
    "### Create index"
   ]
  },
  {
   "cell_type": "code",
   "execution_count": 12,
   "metadata": {
    "collapsed": true
   },
   "outputs": [],
   "source": [
    "INDEX_NAME = \"reuters\"\n",
    "DOC_TYPE = \"doc\"\n",
    "\n",
    "# Create index\n",
    "if not es.indices.exists(INDEX_NAME):\n",
    "    es.indices.create(index=INDEX_NAME)"
   ]
  },
  {
   "cell_type": "markdown",
   "metadata": {},
   "source": [
    "## Processing the input document collection\n",
    "\n",
    "  - The collection is given as a single XML file. \n",
    "  - Each document is inside `<REUTERS ...> </REUTERS>`.\n",
    "  - We extract the contents of the `<DATE>`, `<TITLE>`, and `<BODY>` tags.\n",
    "  - After each extracted document, the provided callback function is called and all document data is passed in a single dict argument."
   ]
  },
  {
   "cell_type": "code",
   "execution_count": 13,
   "metadata": {
    "collapsed": true
   },
   "outputs": [],
   "source": [
    "from xml.dom import minidom"
   ]
  },
  {
   "cell_type": "code",
   "execution_count": 14,
   "metadata": {
    "collapsed": true
   },
   "outputs": [],
   "source": [
    "def index_collection(input_file, callback):\n",
    "    xmldoc = minidom.parse(input_file)\n",
    "    # Iterate documents in the XML file\n",
    "    itemlist = xmldoc.getElementsByTagName(\"REUTERS\")\n",
    "    doc_id = 0\n",
    "    for doc in itemlist:\n",
    "        doc_id += 1\n",
    "        date = doc.getElementsByTagName(\"DATE\")[0].firstChild.nodeValue\n",
    "        # Skip documents without a title or body\n",
    "        if not (doc.getElementsByTagName(\"TITLE\") and doc.getElementsByTagName(\"BODY\")):\n",
    "            continue\n",
    "        title = doc.getElementsByTagName(\"TITLE\")[0].firstChild.nodeValue\n",
    "        body = doc.getElementsByTagName(\"BODY\")[0].firstChild.nodeValue\n",
    "        callback({\n",
    "            \"doc_id\": doc_id,\n",
    "            \"date\": date,\n",
    "            \"title\": title,\n",
    "            \"body\": body\n",
    "            })"
   ]
  },
  {
   "cell_type": "markdown",
   "metadata": {},
   "source": [
    "This method is called for each document that is to be indexed."
   ]
  },
  {
   "cell_type": "code",
   "execution_count": 15,
   "metadata": {
    "collapsed": true
   },
   "outputs": [],
   "source": [
    "def index_doc(doc):\n",
    "    es.index(index=INDEX_NAME, doc_type=DOC_TYPE, id=doc[\"doc_id\"], body={\n",
    "        \"date\": doc[\"date\"],\n",
    "        \"title\": doc[\"title\"],\n",
    "        \"body\": doc[\"body\"]\n",
    "    })"
   ]
  },
  {
   "cell_type": "code",
   "execution_count": 16,
   "metadata": {
    "collapsed": false
   },
   "outputs": [],
   "source": [
    "index_collection(\"data/reuters21578-000.xml\", index_doc)"
   ]
  },
  {
   "cell_type": "markdown",
   "metadata": {},
   "source": [
    "## Test"
   ]
  },
  {
   "cell_type": "code",
   "execution_count": 19,
   "metadata": {
    "collapsed": true
   },
   "outputs": [],
   "source": [
    "from pprint import pprint"
   ]
  },
  {
   "cell_type": "markdown",
   "metadata": {},
   "source": [
    "Retrieve the contents of a given document from the index"
   ]
  },
  {
   "cell_type": "code",
   "execution_count": 20,
   "metadata": {
    "collapsed": false
   },
   "outputs": [
    {
     "name": "stdout",
     "output_type": "stream",
     "text": [
      "{'_id': '3',\n",
      " '_index': 'reuters',\n",
      " '_primary_term': 1,\n",
      " '_seq_no': 2,\n",
      " '_source': {'body': \"Texas Commerce Bancshares Inc's Texas\\n\"\n",
      "                     'Commerce Bank-Houston said it filed an application with '\n",
      "                     'the\\n'\n",
      "                     'Comptroller of the Currency in an effort to create the '\n",
      "                     'largest\\n'\n",
      "                     'banking network in Harris County.\\n'\n",
      "                     '    The bank said the network would link 31 banks '\n",
      "                     'having\\n'\n",
      "                     '13.5 billion dlrs in assets and 7.5 billion dlrs in '\n",
      "                     'deposits.\\n'\n",
      "                     '       \\n'\n",
      "                     ' Reuter\\n',\n",
      "             'date': '26-FEB-1987 15:03:27.51',\n",
      "             'title': 'TEXAS COMMERCE BANCSHARES <TCB> FILES PLAN'},\n",
      " '_type': 'doc',\n",
      " '_version': 1,\n",
      " 'found': True}\n"
     ]
    }
   ],
   "source": [
    "doc = es.get(index=INDEX_NAME, doc_type=DOC_TYPE, id=3)\n",
    "pprint(doc)"
   ]
  },
  {
   "cell_type": "markdown",
   "metadata": {},
   "source": [
    "## Retrieval"
   ]
  },
  {
   "cell_type": "markdown",
   "metadata": {},
   "source": [
    "Run some query against the index"
   ]
  },
  {
   "cell_type": "code",
   "execution_count": 27,
   "metadata": {
    "collapsed": false
   },
   "outputs": [
    {
     "name": "stdout",
     "output_type": "stream",
     "text": [
      "454 NUCLEAR DATA <NDI> GETS EXTENSIONS ON LOANS (8.902655)\n",
      "368 PHILADELPHIA PORT CLOSED BY TANKER CRASH (7.5782523)\n",
      "155 VARIAN <VAR>, SIEMENS FORM JOINT VENTURE (6.4732018)\n",
      "195 AGENCY VOTES TO END LOCAL NUCLEAR PLANT VETO (6.2643485)\n",
      "563 SEC STAFF ADVISES FRAUD CHARGES AGAINST WPPSS (5.473523)\n"
     ]
    }
   ],
   "source": [
    "query = \"nuclear weapons\"\n",
    "hits = es.search(index=INDEX_NAME, q=query, _source=False, size=10)['hits']['hits']\n",
    "\n",
    "# Print document id, title, and retrieval score\n",
    "for h in hits:\n",
    "    doc = es.get(index=INDEX_NAME, doc_type=DOC_TYPE, id=h['_id'])\n",
    "    print(\"{} {} ({})\".format(h['_id'], doc['_source']['title'], h['_score']))"
   ]
  },
  {
   "cell_type": "markdown",
   "metadata": {},
   "source": [
    "## Feedback\n",
    "\n",
    "Please give (anonymous) feedback on this exercise by filling out [this form](https://forms.gle/22o3ursi5YsR1Ztb8)."
   ]
  }
 ],
 "metadata": {
  "kernelspec": {
   "display_name": "Python 3",
   "language": "python",
   "name": "python3"
  },
  "language_info": {
   "codemirror_mode": {
    "name": "ipython",
    "version": 3
   },
   "file_extension": ".py",
   "mimetype": "text/x-python",
   "name": "python",
   "nbconvert_exporter": "python",
   "pygments_lexer": "ipython3",
   "version": "3.6.9"
  }
 },
 "nbformat": 4,
 "nbformat_minor": 2
}
