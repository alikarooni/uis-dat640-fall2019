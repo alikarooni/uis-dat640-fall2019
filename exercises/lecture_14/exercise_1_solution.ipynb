{
 "cells": [
  {
   "cell_type": "markdown",
   "metadata": {},
   "source": [
    "# Exercise #1: Fetching data from Wikipedia and DBpedia\n",
    "\n",
    "Your task is to list all the Norwegian cities with a population of over 100k. Specifically:\n",
    "  - Get the list of cities from a given Wikipedia category.\n",
    "  - Get the population of a given city from its respective DBpedia entry.\n",
    "\n",
    "For both subtasks, some example code is provided that you'll need to adjust.\n",
    "\n",
    "The goal of this exercise is to help you gain a better understanding of Wikipedia categories and how entities are represented in DBpedia. Note that you can always look at the corresponding Wikipedia pages and DBpedia resources in your browser."
   ]
  },
  {
   "cell_type": "markdown",
   "metadata": {},
   "source": [
    "## Getting a list of cities from Wikipedia"
   ]
  },
  {
   "cell_type": "code",
   "execution_count": 1,
   "metadata": {
    "collapsed": true
   },
   "outputs": [],
   "source": [
    "import wikipediaapi\n",
    "\n",
    "wiki_wiki = wikipediaapi.Wikipedia('en')"
   ]
  },
  {
   "cell_type": "markdown",
   "metadata": {},
   "source": [
    "Get a list of Norwegian cities from Wikipedia by listing the members of the ['Cities_and_towns_in_Norway' category](https://en.wikipedia.org/wiki/Category:Cities_and_towns_in_Norway).\n",
    "\n",
    "Check \"How To Get All Pages From Category\" on [this page](https://pypi.org/project/Wikipedia-API/)."
   ]
  },
  {
   "cell_type": "code",
   "execution_count": 2,
   "metadata": {
    "collapsed": false
   },
   "outputs": [],
   "source": [
    "cities = []\n",
    "cat = wiki_wiki.page(\"Category:Cities_and_towns_in_Norway\")\n",
    "for c in cat.categorymembers.values():\n",
    "    if c.ns != wikipediaapi.Namespace.CATEGORY:\n",
    "        cities.append(c.title)"
   ]
  },
  {
   "cell_type": "code",
   "execution_count": 3,
   "metadata": {
    "collapsed": false
   },
   "outputs": [
    {
     "name": "stdout",
     "output_type": "stream",
     "text": [
      "['Largest metropolitan areas in the Nordic countries', 'List of towns and cities in Norway', 'List of urban areas in the Nordic countries', 'List of historical capitals of Norway', 'List of urban areas in Norway by population', 'Kjøpstad', 'Ålesund (town)', 'Åndalsnes', 'Åkrehamn', 'Alleen', 'Alta (town)', 'Arendal (town)', 'Askim', 'Bergen', 'Bodø (town)', 'Brekstad', 'Brevik, Norway', 'Brønnøysund', 'Bryne', 'Drammen', 'Drøbak', 'Egersund', 'Elverum', 'Fagernes', 'Falkum', 'Farsund (town)', 'Fauske (town)', 'Finnsnes', 'Flekkefjord (town)', 'Florø', 'Førde (town)', 'Fosnavåg', 'Fredrikstad', 'Gjøvik', 'Grimstad (town)', 'Gulsvik', 'Halden', 'Hamar', 'Hammerfest (town)', 'Harstad (town)', 'Haugesund', 'Hokksund', 'Holmestrand', 'Hønefoss', 'Honningsvåg', 'Jørpeland', 'Kirkenes', 'Kolvereid', 'Kongsberg', 'Kongsvinger', 'Kopervik', 'Kragerø', 'Kristiansand', 'Kristiansund (town)', 'Langesund', 'Larvik', 'Leirvik', 'Leknes', 'Levanger (town)', 'Lillehammer', 'Lillesand (town)', 'Lillestrøm', 'Måløy', 'Mandal (town)', 'Mo i Rana', 'Molde (town)', 'Mosjøen', 'Moss, Norway', 'Mysen', 'Namsos (town)', 'Narvik (town)', 'Notodden', 'Odda (town)', 'Orkanger', 'Oslo', 'Otta, Norway', 'Porsgrunn', 'Prestfoss', 'Risør (town)', 'Rjukan', 'Røros (town)', 'Sandefjord', 'Sandnes', 'Sandnessjøen', 'Sandvika', 'Sarpsborg', 'Sauda (town)', 'Ski, Norway', 'Skien', 'Skudeneshavn', 'Slependen', 'Sortland (town)', 'Stathelle', 'Stavanger', 'Stavern', 'Steinkjer (town)', 'Stjørdalshalsen', 'Stokmarknes', 'Stord', 'Svelvik', 'Svolvær', 'Tønsberg', 'Tønsberg (town)', 'Tromsø (city)', 'Trondheim', 'Tvedestrand (town)', 'Ulsteinvik', 'Urban areas in the Nordic countries', 'Vadsø (town)', 'Vardø (town)', 'Verdalsøra']\n"
     ]
    }
   ],
   "source": [
    "print(cities)"
   ]
  },
  {
   "cell_type": "markdown",
   "metadata": {},
   "source": [
    "## Get properties of a given entity from DBpedia"
   ]
  },
  {
   "cell_type": "code",
   "execution_count": 4,
   "metadata": {
    "collapsed": true
   },
   "outputs": [],
   "source": [
    "import requests"
   ]
  },
  {
   "cell_type": "markdown",
   "metadata": {},
   "source": [
    "Example how to get data about a given person from DBpedia, [see here](http://dbpedia.org/resource/Matteo_Donati)."
   ]
  },
  {
   "cell_type": "code",
   "execution_count": 5,
   "metadata": {
    "collapsed": true
   },
   "outputs": [],
   "source": [
    "data = requests.get(\"http://dbpedia.org/data/Matteo_Donati.json\").json()\n",
    "properties = data['http://dbpedia.org/resource/Matteo_Donati']"
   ]
  },
  {
   "cell_type": "markdown",
   "metadata": {},
   "source": [
    "`properties` is a dictionary with lots of keys that correspond to that entity's properties.\n",
    "Each value is a list of dictionaries itself. "
   ]
  },
  {
   "cell_type": "code",
   "execution_count": 6,
   "metadata": {
    "collapsed": false
   },
   "outputs": [
    {
     "name": "stdout",
     "output_type": "stream",
     "text": [
      "Height: 1.88\n",
      "Birth date: 1995-02-28\n",
      "Hand: Right-handed (two-handed backhand)\n"
     ]
    }
   ],
   "source": [
    "print(\"Height: {}\".format(properties['http://dbpedia.org/ontology/height'][0]['value']))\n",
    "print(\"Birth date: {}\".format(properties['http://dbpedia.org/ontology/birthDate'][0]['value']))\n",
    "print(\"Hand: {}\".format(properties['http://dbpedia.org/ontology/plays'][0]['value']))"
   ]
  },
  {
   "cell_type": "markdown",
   "metadata": {},
   "source": [
    "## Get populations of cities\n",
    "\n",
    "Look up the populations of Norwegian cities and output those above 100k."
   ]
  },
  {
   "cell_type": "markdown",
   "metadata": {},
   "source": [
    "The predicate that corresponds to population."
   ]
  },
  {
   "cell_type": "code",
   "execution_count": 7,
   "metadata": {
    "collapsed": true
   },
   "outputs": [],
   "source": [
    "predicate = \"http://dbpedia.org/ontology/populationTotal\""
   ]
  },
  {
   "cell_type": "code",
   "execution_count": 8,
   "metadata": {
    "collapsed": false
   },
   "outputs": [
    {
     "name": "stdout",
     "output_type": "stream",
     "text": [
      "Bergen 278121\n",
      "Oslo 658390\n",
      "Stavanger 130426\n",
      "Trondheim 187353\n"
     ]
    }
   ],
   "source": [
    "for city in cities:\n",
    "    url_name = city.replace(\" \", \"_\")\n",
    "    data = requests.get(\"http://dbpedia.org/data/{}.json\".format(url_name)).json()\n",
    "    dict_key = \"http://dbpedia.org/resource/{}\".format(url_name)\n",
    "    if dict_key not in data:\n",
    "        continue\n",
    "    properties = data[dict_key]\n",
    "    if predicate not in properties:  # skip non-city entities\n",
    "        continue\n",
    "    population = int(properties[predicate][0]['value'])\n",
    "    if population >= 100000:\n",
    "        print(city, population)"
   ]
  },
  {
   "cell_type": "markdown",
   "metadata": {},
   "source": [
    "## Feedback\n",
    "\n",
    "Please give (anonymous) feedback on this exercise by filling out [this form](https://forms.gle/22o3ursi5YsR1Ztb8)."
   ]
  }
 ],
 "metadata": {
  "kernelspec": {
   "display_name": "Python 3",
   "language": "python",
   "name": "python3"
  },
  "language_info": {
   "codemirror_mode": {
    "name": "ipython",
    "version": 3
   },
   "file_extension": ".py",
   "mimetype": "text/x-python",
   "name": "python",
   "nbconvert_exporter": "python",
   "pygments_lexer": "ipython3",
   "version": "3.6.9"
  }
 },
 "nbformat": 4,
 "nbformat_minor": 2
}
