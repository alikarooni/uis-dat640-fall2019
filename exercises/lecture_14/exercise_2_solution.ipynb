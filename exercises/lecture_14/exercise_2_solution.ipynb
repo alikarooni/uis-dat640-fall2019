{
 "cells": [
  {
   "cell_type": "markdown",
   "metadata": {},
   "source": [
    "# Exercise #2: Indexing DBpedia data\n",
    "\n",
    "Build a fielded Elasticsearch index of Norwegian athletes."
   ]
  },
  {
   "cell_type": "markdown",
   "metadata": {},
   "source": [
    "## Get a list of Norwegian athletes\n",
    "\n",
    "Identify the list of people based on Wikipedia categories or DBpedia types."
   ]
  },
  {
   "cell_type": "markdown",
   "metadata": {},
   "source": [
    "We'll utilize the [List of Norwegian sportspeople](https://en.wikipedia.org/wiki/List_of_Norwegian_sportspeople) Wikipedia lists page. From this, we need to extract all outgoing lists. \n",
    "\n",
    "Note that not all pages will correspond to athlethes, so we'll need to filter those later (at indexing time)."
   ]
  },
  {
   "cell_type": "code",
   "execution_count": 2,
   "metadata": {
    "collapsed": true
   },
   "outputs": [],
   "source": [
    "import wikipediaapi\n",
    "\n",
    "wiki_wiki = wikipediaapi.Wikipedia('en')"
   ]
  },
  {
   "cell_type": "code",
   "execution_count": 8,
   "metadata": {
    "collapsed": false
   },
   "outputs": [],
   "source": [
    "list_page = wiki_wiki.page(\"List_of_Norwegian_sportspeople\")\n",
    "pages = list(list_page.links.keys())"
   ]
  },
  {
   "cell_type": "code",
   "execution_count": 43,
   "metadata": {
    "collapsed": false
   },
   "outputs": [
    {
     "name": "stdout",
     "output_type": "stream",
     "text": [
      "['Ailo Gaup (motocross rider)', 'Alf Hansen', 'Anders Bardal', 'Anders Jacobsen (ski jumper)', 'Andreas Thorkildsen', 'André Jørgensen', 'Ane Eidem', 'Anja Hammerseng-Edin', 'Anne Sophie Hunstad', 'Are Grongstad'] ...\n"
     ]
    }
   ],
   "source": [
    "print(pages[:10], \"...\")"
   ]
  },
  {
   "cell_type": "markdown",
   "metadata": {},
   "source": [
    "## Index the data\n",
    "\n",
    "Build a fielded Elasticsearch index. Fields should include:\n",
    "\n",
    "  - Names\n",
    "  - Description\n",
    "  - Attributes\n",
    "  - Related entities\n",
    "  - Types/categories\n",
    "  - Catch-all"
   ]
  },
  {
   "cell_type": "code",
   "execution_count": 11,
   "metadata": {
    "collapsed": true
   },
   "outputs": [],
   "source": [
    "from elasticsearch import Elasticsearch\n",
    "\n",
    "es = Elasticsearch()"
   ]
  },
  {
   "cell_type": "markdown",
   "metadata": {},
   "source": [
    "### Index configuration \n",
    "\n",
    "For each of the fields, store the term vectors. These should be stored in the index (to avoid them being computed on-\n",
    "the-fly). See [here](https://www.elastic.co/guide/en/elasticsearch/reference/current/term-vector.html)."
   ]
  },
  {
   "cell_type": "code",
   "execution_count": 13,
   "metadata": {
    "collapsed": true
   },
   "outputs": [],
   "source": [
    "INDEX_NAME = \"norwegian_athletes\"\n",
    "\n",
    "INDEX_SETTINGS = {\n",
    "    'mappings': {\n",
    "            'properties': {\n",
    "                'names': {\n",
    "                    'type': \"text\",\n",
    "                    'term_vector': \"yes\",\n",
    "                    'analyzer': \"english\"\n",
    "                },\n",
    "                'description': {\n",
    "                    'type': \"text\",\n",
    "                    'term_vector': \"yes\",\n",
    "                    'analyzer': \"english\"\n",
    "                },\n",
    "                'attributes': {\n",
    "                    'type': \"text\",\n",
    "                    'term_vector': \"yes\",\n",
    "                    'analyzer': \"english\"\n",
    "                },\n",
    "                'related_entities': {\n",
    "                    'type': \"text\",\n",
    "                    'term_vector': \"yes\",\n",
    "                    'analyzer': \"english\"\n",
    "                },\n",
    "                'types': {\n",
    "                    'type': \"text\",\n",
    "                    'term_vector': \"yes\",\n",
    "                    'analyzer': \"english\"\n",
    "                },\n",
    "                'catch_all': {\n",
    "                    'type': \"text\",\n",
    "                    'term_vector': \"yes\",\n",
    "                    'analyzer': \"english\"\n",
    "                },\n",
    "            }\n",
    "        }\n",
    "    }"
   ]
  },
  {
   "cell_type": "code",
   "execution_count": 14,
   "metadata": {
    "collapsed": false
   },
   "outputs": [
    {
     "data": {
      "text/plain": [
       "{'acknowledged': True,\n",
       " 'index': 'norwegian_athletes',\n",
       " 'shards_acknowledged': True}"
      ]
     },
     "execution_count": 14,
     "metadata": {},
     "output_type": "execute_result"
    }
   ],
   "source": [
    "if es.indices.exists(INDEX_NAME):\n",
    "    es.indices.delete(index=INDEX_NAME)\n",
    "    \n",
    "es.indices.create(index=INDEX_NAME, body=INDEX_SETTINGS)"
   ]
  },
  {
   "cell_type": "markdown",
   "metadata": {},
   "source": [
    "### Indexing athletes "
   ]
  },
  {
   "cell_type": "code",
   "execution_count": 15,
   "metadata": {
    "collapsed": true
   },
   "outputs": [],
   "source": [
    "import requests"
   ]
  },
  {
   "cell_type": "markdown",
   "metadata": {},
   "source": [
    "Method to decide whether an entity belongs to a certain type (i.e., whether `target_type` one of the many types assigned to the entity)."
   ]
  },
  {
   "cell_type": "code",
   "execution_count": 28,
   "metadata": {
    "collapsed": true
   },
   "outputs": [],
   "source": [
    "TYPE_PREDICATE = \"http://www.w3.org/1999/02/22-rdf-syntax-ns#type\"\n",
    "\n",
    "def has_type(properties, target_type):\n",
    "    if TYPE_PREDICATE not in properties:\n",
    "        return False\n",
    "    for p in properties[TYPE_PREDICATE]:\n",
    "        if p['value'] == target_type:\n",
    "            return True\n",
    "    return False"
   ]
  },
  {
   "cell_type": "markdown",
   "metadata": {},
   "source": [
    "Method to resolve a given URI. In principle, we should look up the name of the resource pointed by the URI. Here, we'll simply take the segment of the URI after the last slash and replace underscores with spaces. Note that this will not work for CamelCase (like DBpedia type names), among many other things."
   ]
  },
  {
   "cell_type": "code",
   "execution_count": 26,
   "metadata": {
    "collapsed": true
   },
   "outputs": [],
   "source": [
    "def resolve_uri(uri):\n",
    "    return uri.split(\"/\")[-1].replace(\"_\", \" \")"
   ]
  },
  {
   "cell_type": "code",
   "execution_count": 27,
   "metadata": {
    "collapsed": false
   },
   "outputs": [
    {
     "name": "stdout",
     "output_type": "stream",
     "text": [
      "Category:Norwegian speed skaters\n"
     ]
    }
   ],
   "source": [
    "print(resolve_uri(\"http://dbpedia.org/resource/Category:Norwegian_speed_skaters\"))"
   ]
  },
  {
   "cell_type": "markdown",
   "metadata": {},
   "source": [
    "Method to create a fielded document representation for a given entity."
   ]
  },
  {
   "cell_type": "code",
   "execution_count": 34,
   "metadata": {
    "collapsed": false
   },
   "outputs": [],
   "source": [
    "NAME_PREDICATES = set([\"http://www.w3.org/2000/01/rdf-schema#label\", \n",
    "                       \"http://xmlns.com/foaf/0.1/name\", \n",
    "                       \"http://xmlns.com/foaf/0.1/givenName\",\n",
    "                       \"http://xmlns.com/foaf/0.1/surname\"])\n",
    "TYPE_PREDICATES = set([TYPE_PREDICATE, \n",
    "                       \"http://purl.org/dc/terms/subject\"])\n",
    "COMMENT_PREDICATE = \"http://www.w3.org/2000/01/rdf-schema#comment\"\n",
    "\n",
    "def get_entity_doc(properties):\n",
    "    doc = {}\n",
    "    \n",
    "    for predicate, values in properties.items():\n",
    "        for value in values:\n",
    "            # Get indexable text from the object\n",
    "            value_str = str(value['value']) if value['type'] == \"literal\" else resolve_uri(value['value'])\n",
    "            \n",
    "            # Mapping to different fields based on predicate and type of value        \n",
    "            if predicate in NAME_PREDICATES:  # names\n",
    "                doc['names'] = doc.get(\"names\", \"\") + \" \" + value_str\n",
    "            if predicate in TYPE_PREDICATES:  # types\n",
    "                doc['types'] = doc.get(\"types\", \"\") + \" \" + value_str\n",
    "            elif predicate == COMMENT_PREDICATE:  # description\n",
    "                doc['description'] = value_str\n",
    "            elif value['type'] == \"literal\":  # attributes\n",
    "                doc['attributes'] = doc.get(\"attributes\", \"\") + \" \" + value_str                \n",
    "            elif value['type'] == \"uri\":  # related entities\n",
    "                doc['related_entities'] = doc.get(\"related_entities\", \"\") + \" \" + value_str                \n",
    "                \n",
    "            # Always add to catch_all field\n",
    "            doc['catch_all'] = doc.get(\"catch_all\", \"\") + \" \" + value_str\n",
    "    \n",
    "    return doc"
   ]
  },
  {
   "cell_type": "code",
   "execution_count": 37,
   "metadata": {
    "collapsed": false
   },
   "outputs": [
    {
     "name": "stdout",
     "output_type": "stream",
     "text": [
      "Alf Hansen\n",
      "Anders Bardal\n",
      "Anders Jacobsen (ski jumper)\n",
      "Andreas Thorkildsen\n",
      "André Jørgensen\n",
      "Ane Eidem\n",
      "Anja Hammerseng-Edin\n",
      "Are Grongstad\n",
      "Atle Maurud\n",
      "Bente Skari\n",
      "Birger Ruud\n",
      "Bjørg Eva Jensen\n",
      "Bjørn Dæhlie\n",
      "Bjørn Einar Romøren\n",
      "Bjørn Helge Riise\n",
      "Bjørn Wirkola\n",
      "Cecilia Brækhus\n",
      "Christina Vukicevic\n",
      "Daniel Braaten\n",
      "Daniel Hrcka Brøndberg\n",
      "Edvald Boasson Hagen\n",
      "Edwin Kjeldner\n",
      "Egil Danielsen\n",
      "Endre Hansen\n",
      "Erik Noppi\n",
      "Eskil Ervik\n",
      "Espen Bredesen\n",
      "Espen Knutsen\n",
      "Even Blakstad\n",
      "Frank Hansen (rower)\n",
      "Fred Anton Maier\n",
      "Frode Estil\n",
      "Geir Karlstad\n",
      "Goaltender\n",
      "Grete Waitz\n",
      "Gro Hammerseng-Edin\n",
      "Gunn-Rita Dahle Flesjå\n",
      "Gøran van den Burgt\n",
      "Hans Anton Aalien\n",
      "Hege Riise\n",
      "Henning Solberg\n",
      "Henrik Bjørnstad\n",
      "Hjalmar Andersen\n",
      "Inga Berit Svestad\n",
      "Ingrid Kristiansen\n",
      "Isabell Herlovsen\n",
      "Ivar Ballangrud\n",
      "Jan Egil Storholt\n",
      "Jan Stenerud\n",
      "Joachim Hansen (fighter)\n",
      "Johan Martin Lianes\n",
      "Johan Remen Evensen\n",
      "Johann Olav Koss\n",
      "John Arne Riise\n",
      "John Carew\n",
      "Jon Ludvig Hammer\n",
      "Jon Rønningen\n",
      "Jørn Goldstein\n",
      "Kari Traa\n",
      "Karl Erik Rimfeldt\n",
      "Kenneth Trones\n",
      "Kim-Roar Hansen\n",
      "Kjersti Buaas\n",
      "Kjersti Plätzer\n",
      "Kjetil André Aamodt\n",
      "Knut Holmann\n",
      "Knut Johannesen\n",
      "Knute Rockne\n",
      "Kristen Skjeldal\n",
      "Kristian Kjelling\n",
      "Lars Hjorth\n",
      "Lars Nordberg\n",
      "Lars Waage Hansen\n",
      "Lars Øvrebø\n",
      "Lasse Kjus\n",
      "Linn Githmark\n",
      "Lorenzo Caroprese\n",
      "Magne Thomassen\n",
      "Magnus Carlsen\n",
      "Marit Bjørgen\n",
      "Marius Aam\n",
      "Martin Elvestad\n",
      "Morten Gamst Pedersen\n",
      "Morten Kolseth\n",
      "Nila Håkedal\n",
      "Odd-Bjørn Hjelmeset\n",
      "Olaf Tufte\n",
      "Ole-Kristian Tollefsen\n",
      "Oscar Mathisen\n",
      "Patrick Thoresen\n",
      "Per Ivar Moe\n",
      "Per Willy Guttormsen\n",
      "Petter Northug\n",
      "Petter Solberg\n",
      "Pål Trulsen\n",
      "Roar Ljøkelsøy\n",
      "Robert Evensen\n",
      "Rolf Falk-Larssen\n",
      "Ronny Støbakk\n",
      "Sebastian Barthold\n",
      "Sigurd Pettersen\n",
      "Silje Norendal\n",
      "Simen Agdestein\n",
      "Simen Key Grimsrud\n",
      "Sonja Henie\n",
      "Steffen Tangstad\n",
      "Stein Eriksen\n",
      "Sten Stensen\n",
      "Stian Grimseth\n",
      "Stig Engen\n",
      "Suzann Pettersen\n",
      "Thomas Alsgaard\n",
      "Thomas Myhre\n",
      "Thomas Ulsrud\n",
      "Thor Hushovd\n",
      "Tom Hilde\n",
      "Tommy Runar\n",
      "Tor Sveen\n",
      "Tord Asle Gjerdalen\n",
      "Tore André Flo\n",
      "Tore Vikingstad\n",
      "Torgeir Rugtvedt\n",
      "Torger Motland\n",
      "Torill Fjellestad\n",
      "Torstein Horgmo\n",
      "Trygve Diskerud\n",
      "Vegard Sannes\n",
      "Vegard Ulvang\n",
      "Ådne Søndrål\n",
      "Øystein Grødum\n",
      "Øystein Pettersen\n",
      "Øyvind Leonhardsen\n",
      "132 entities indexed\n"
     ]
    }
   ],
   "source": [
    "num_entities = 0\n",
    "for page in pages:\n",
    "    url_name = page.replace(\" \", \"_\")\n",
    "    data = requests.get(\"http://dbpedia.org/data/{}.json\".format(url_name)).json()\n",
    "    dict_key = \"http://dbpedia.org/resource/{}\".format(url_name)\n",
    "    if dict_key not in data:\n",
    "        continue\n",
    "    properties = data[dict_key]\n",
    "    # Filter out non-athletes (as well as entities without any type)\n",
    "    if not has_type(properties, \"http://dbpedia.org/ontology/Athlete\"):\n",
    "        continue\n",
    "\n",
    "    print(page)\n",
    "    es.index(index=INDEX_NAME, id=page, body=get_entity_doc(properties))\n",
    "    num_entities += 1\n",
    "    \n",
    "print(\"{} entities indexed\".format(num_entities))"
   ]
  },
  {
   "cell_type": "markdown",
   "metadata": {},
   "source": [
    "## Test\n",
    "\n",
    "Test the indexed content by fetching the terms vectors for a given entity from the index. Check in the [documentation](https://www.elastic.co/guide/en/elasticsearch/reference/current/docs-termvectors.html) the meaning of the different values."
   ]
  },
  {
   "cell_type": "code",
   "execution_count": 40,
   "metadata": {
    "collapsed": true
   },
   "outputs": [],
   "source": [
    "tv = es.termvectors(index=INDEX_NAME, id=\"Eskil Ervik\", fields=\"names,description\")"
   ]
  },
  {
   "cell_type": "code",
   "execution_count": 41,
   "metadata": {
    "collapsed": false
   },
   "outputs": [
    {
     "data": {
      "text/plain": [
       "{'_id': 'Eskil+Ervik',\n",
       " '_index': 'norwegian_athletes',\n",
       " '_type': '_doc',\n",
       " '_version': 1,\n",
       " 'found': True,\n",
       " 'term_vectors': {'description': {'field_statistics': {'doc_count': 134,\n",
       "    'sum_doc_freq': 5112,\n",
       "    'sum_ttf': 6535},\n",
       "   'terms': {'11': {'term_freq': 1},\n",
       "    '1975': {'term_freq': 1},\n",
       "    'cba': {'term_freq': 1},\n",
       "    'een': {'term_freq': 1},\n",
       "    'en': {'term_freq': 1},\n",
       "    'ervik': {'term_freq': 1},\n",
       "    'eskil': {'term_freq': 1},\n",
       "    'huidig': {'term_freq': 1},\n",
       "    'januari': {'term_freq': 1},\n",
       "    'langebaanschaats': {'term_freq': 1},\n",
       "    'manag': {'term_freq': 1},\n",
       "    'noor': {'term_freq': 1},\n",
       "    'noorwegen': {'term_freq': 1},\n",
       "    'oud': {'term_freq': 1},\n",
       "    'team': {'term_freq': 1},\n",
       "    'trondheim': {'term_freq': 1},\n",
       "    'van': {'term_freq': 1}}},\n",
       "  'names': {'field_statistics': {'doc_count': 134,\n",
       "    'sum_doc_freq': 732,\n",
       "    'sum_ttf': 2378},\n",
       "   'terms': {'ervik': {'term_freq': 6},\n",
       "    'eskil': {'term_freq': 6},\n",
       "    'эрвик': {'term_freq': 1},\n",
       "    'эскил': {'term_freq': 1}}}},\n",
       " 'took': 1}"
      ]
     },
     "execution_count": 41,
     "metadata": {},
     "output_type": "execute_result"
    }
   ],
   "source": [
    "tv"
   ]
  },
  {
   "cell_type": "markdown",
   "metadata": {},
   "source": [
    "## Feedback\n",
    "\n",
    "Please give (anonymous) feedback on this exercise by filling out [this form](https://forms.gle/22o3ursi5YsR1Ztb8)."
   ]
  }
 ],
 "metadata": {
  "kernelspec": {
   "display_name": "Python 3",
   "language": "python",
   "name": "python3"
  },
  "language_info": {
   "codemirror_mode": {
    "name": "ipython",
    "version": 3
   },
   "file_extension": ".py",
   "mimetype": "text/x-python",
   "name": "python",
   "nbconvert_exporter": "python",
   "pygments_lexer": "ipython3",
   "version": "3.6.9"
  }
 },
 "nbformat": 4,
 "nbformat_minor": 2
}
