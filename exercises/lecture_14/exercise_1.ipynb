{
 "cells": [
  {
   "cell_type": "markdown",
   "metadata": {},
   "source": [
    "# Exercise #1: Fetching data from Wikipedia and DBpedia\n",
    "\n",
    "Your task is to list all the Norwegian cities with a population of over 100k. Specifically:\n",
    "  - Get the list of cities from a given Wikipedia category.\n",
    "  - Get the population of a given city from its respective DBpedia entry.\n",
    "\n",
    "For both subtasks, some example code is provided that you'll need to adjust.\n",
    "\n",
    "The goal of this exercise is to help you gain a better understanding of Wikipedia categories and how entities are represented in DBpedia. Note that you can always look at the corresponding Wikipedia pages and DBpedia resources in your browser."
   ]
  },
  {
   "cell_type": "markdown",
   "metadata": {},
   "source": [
    "## Getting a list of cities from Wikipedia"
   ]
  },
  {
   "cell_type": "code",
   "execution_count": 14,
   "metadata": {
    "collapsed": true
   },
   "outputs": [],
   "source": [
    "import wikipediaapi\n",
    "\n",
    "wiki_wiki = wikipediaapi.Wikipedia('en')"
   ]
  },
  {
   "cell_type": "markdown",
   "metadata": {},
   "source": [
    "Get a list of Norwegian cities from Wikipedia by listing the members of the ['Cities_and_towns_in_Norway' category](https://en.wikipedia.org/wiki/Category:Cities_and_towns_in_Norway).\n",
    "\n",
    "You will need to go at least one level deep to get actual articles (which are not Category pages).\n",
    "\n",
    "Check \"How To Get All Pages From Category\" on [this page](https://pypi.org/project/Wikipedia-API/)."
   ]
  },
  {
   "cell_type": "code",
   "execution_count": 16,
   "metadata": {
    "collapsed": false
   },
   "outputs": [
    {
     "name": "stdout",
     "output_type": "stream",
     "text": [
      "Category:Former cities in Norway\n",
      "Category:Former Norwegian towns\n",
      "Category:Port cities and towns in Norway\n",
      "Category:Cities and towns in Eid, Norway\n",
      "Category:Categories by city in Norway\n",
      "Category:Ålesund\n",
      "Category:Arendal\n",
      "Category:Askim\n",
      "Category:Bergen\n",
      "Category:Bodø\n",
      "Category:Dombås\n",
      "Category:Drammen\n",
      "Category:Eigersund\n",
      "Category:Elverum\n",
      "Category:Farsund\n",
      "Category:Flekkefjord\n",
      "Category:Fredrikstad\n",
      "Category:Gjøvik\n",
      "Category:Grimstad\n",
      "Category:Halden\n",
      "Category:Hamar\n",
      "Category:Hammerfest\n",
      "Category:Harstad\n",
      "Category:Haugesund\n",
      "Category:Kongsberg\n",
      "Category:Kragerø\n",
      "Category:Kristiansand\n",
      "Category:Kristiansund\n",
      "Category:Larvik\n",
      "Category:Lillehammer\n",
      "Category:Lillesand\n",
      "Category:Lillestrøm\n",
      "Category:Longyearbyen\n",
      "Category:Mandal, Norway\n",
      "Category:Mo i Rana\n",
      "Category:Narvik\n",
      "Category:Nordfjordeid\n",
      "Category:Notodden\n",
      "Category:Odda\n",
      "Category:Oslo\n",
      "Category:Porsgrunn\n",
      "Category:Risør\n",
      "Category:Sandefjord\n",
      "Category:Sandnes\n",
      "Category:Sandvika\n",
      "Category:Sarpsborg\n",
      "Category:Ski, Norway\n",
      "Category:Skien\n",
      "Category:Stavanger\n",
      "Category:Tønsberg\n",
      "Category:Tromsø\n",
      "Category:Trondheim\n",
      "Category:Tvedestrand\n",
      "Category:Ulefoss\n"
     ]
    }
   ],
   "source": [
    "cat = wiki_wiki.page(\"Category:Cities_and_towns_in_Norway\")\n",
    "for c in cat.categorymembers.values():\n",
    "    if c.ns == wikipediaapi.Namespace.CATEGORY:\n",
    "        print(c.title)"
   ]
  },
  {
   "cell_type": "markdown",
   "metadata": {},
   "source": [
    "## Get properties of a given entity from DBpedia"
   ]
  },
  {
   "cell_type": "code",
   "execution_count": 5,
   "metadata": {
    "collapsed": true
   },
   "outputs": [],
   "source": [
    "import requests"
   ]
  },
  {
   "cell_type": "markdown",
   "metadata": {},
   "source": [
    "Example how to get data about a given person from DBpedia, [see here](http://dbpedia.org/resource/Matteo_Donati)."
   ]
  },
  {
   "cell_type": "code",
   "execution_count": 8,
   "metadata": {
    "collapsed": true
   },
   "outputs": [],
   "source": [
    "data = requests.get('http://dbpedia.org/data/Matteo_Donati.json').json()\n",
    "properties = data['http://dbpedia.org/resource/Matteo_Donati']"
   ]
  },
  {
   "cell_type": "markdown",
   "metadata": {},
   "source": [
    "`properties` is a dictionary with lots of keys that correspond to that entity's properties.\n",
    "Each value is a list of dictionaries itself. "
   ]
  },
  {
   "cell_type": "code",
   "execution_count": 11,
   "metadata": {
    "collapsed": false
   },
   "outputs": [
    {
     "name": "stdout",
     "output_type": "stream",
     "text": [
      "Height: 1.88\n",
      "Birth date: 1995-02-28\n",
      "Hand: Right-handed (two-handed backhand)\n"
     ]
    }
   ],
   "source": [
    "print(\"Height: {}\".format(properties['http://dbpedia.org/ontology/height'][0]['value']))\n",
    "print(\"Birth date: {}\".format(properties['http://dbpedia.org/ontology/birthDate'][0]['value']))\n",
    "print(\"Hand: {}\".format(properties['http://dbpedia.org/ontology/plays'][0]['value']))"
   ]
  },
  {
   "cell_type": "markdown",
   "metadata": {},
   "source": [
    "## Get populations of cities\n",
    "\n",
    "Look up the populations of Norwegian cities and output those above 100k.\n",
    "\n",
    "Specifically, you'll need to find out which predicate corresponds to population."
   ]
  },
  {
   "cell_type": "code",
   "execution_count": 18,
   "metadata": {
    "collapsed": true
   },
   "outputs": [],
   "source": [
    "# TODO"
   ]
  },
  {
   "cell_type": "markdown",
   "metadata": {},
   "source": [
    "## Feedback\n",
    "\n",
    "Please give (anonymous) feedback on this exercise by filling out [this form](https://forms.gle/22o3ursi5YsR1Ztb8)."
   ]
  }
 ],
 "metadata": {
  "kernelspec": {
   "display_name": "Python 3",
   "language": "python",
   "name": "python3"
  },
  "language_info": {
   "codemirror_mode": {
    "name": "ipython",
    "version": 3
   },
   "file_extension": ".py",
   "mimetype": "text/x-python",
   "name": "python",
   "nbconvert_exporter": "python",
   "pygments_lexer": "ipython3",
   "version": "3.6.9"
  }
 },
 "nbformat": 4,
 "nbformat_minor": 2
}
