{
 "cells": [
  {
   "cell_type": "markdown",
   "metadata": {},
   "source": [
    "# Exercise #2: Indexing DBpedia data\n",
    "\n",
    "Build a fielded Elasticsearch index of Norwegian athletes."
   ]
  },
  {
   "cell_type": "markdown",
   "metadata": {},
   "source": [
    "## Get a list of Norwegian athletes\n",
    "\n",
    "Identify the list of people based on Wikipedia categories or DBpedia types."
   ]
  },
  {
   "cell_type": "code",
   "execution_count": 1,
   "metadata": {
    "collapsed": true
   },
   "outputs": [],
   "source": [
    "# TODO"
   ]
  },
  {
   "cell_type": "markdown",
   "metadata": {},
   "source": [
    "## Index the data\n",
    "\n",
    "Build a fielded Elasticsearch index. Fields should include:\n",
    "\n",
    "  - Names\n",
    "  - Description\n",
    "  - Attributes\n",
    "  - Related entities\n",
    "  - Types/categories\n",
    "  - Catch-all"
   ]
  },
  {
   "cell_type": "code",
   "execution_count": 2,
   "metadata": {
    "collapsed": true
   },
   "outputs": [],
   "source": [
    "from elasticsearch import Elasticsearch\n",
    "\n",
    "es = Elasticsearch()"
   ]
  },
  {
   "cell_type": "markdown",
   "metadata": {},
   "source": [
    "For each of the fields, store the term vectors. These should be stored in the index (to avoid them being computed on-the-fly). See [here](https://www.elastic.co/guide/en/elasticsearch/reference/current/term-vector.html).\n",
    "\n",
    "**TODO** Adjust the example provided below."
   ]
  },
  {
   "cell_type": "code",
   "execution_count": 5,
   "metadata": {
    "collapsed": false
   },
   "outputs": [],
   "source": [
    "INDEX_NAME = \"norwegian_athletes\"\n",
    "\n",
    "INDEX_SETTINGS = {\n",
    "    'mappings': {\n",
    "            'properties': {\n",
    "                'name': {\n",
    "                    'type': \"text\",\n",
    "                    'term_vector': \"yes\",\n",
    "                    'analyzer': \"english\"\n",
    "                },\n",
    "                'description': {\n",
    "                    'type': \"text\",\n",
    "                    'term_vector': \"yes\",\n",
    "                    'analyzer': \"english\"\n",
    "                },\n",
    "            }\n",
    "        }\n",
    "    }"
   ]
  },
  {
   "cell_type": "code",
   "execution_count": null,
   "metadata": {
    "collapsed": true
   },
   "outputs": [],
   "source": [
    "if es.indices.exists(INDEX_NAME):\n",
    "    es.indices.delete(index=INDEX_NAME)\n",
    "    \n",
    "es.indices.create(index=INDEX_NAME, body=INDEX_SETTINGS)"
   ]
  },
  {
   "cell_type": "code",
   "execution_count": 12,
   "metadata": {
    "collapsed": false
   },
   "outputs": [
    {
     "data": {
      "text/plain": [
       "{'_id': 'test_doc',\n",
       " '_index': 'norwegian_athletes',\n",
       " '_primary_term': 1,\n",
       " '_seq_no': 0,\n",
       " '_shards': {'failed': 0, 'successful': 1, 'total': 2},\n",
       " '_type': '_doc',\n",
       " '_version': 1,\n",
       " 'result': 'created'}"
      ]
     },
     "execution_count": 12,
     "metadata": {},
     "output_type": "execute_result"
    }
   ],
   "source": [
    "# Adding a dummy document as a test \n",
    "# TODO replace this with actual content\n",
    "\n",
    "es.index(index=INDEX_NAME, id=\"test_doc\", body={\n",
    "    'name': \"Entity name\",\n",
    "    'description': \"The description of the entity \"\n",
    "})"
   ]
  },
  {
   "cell_type": "markdown",
   "metadata": {},
   "source": [
    "## Test\n",
    "\n",
    "Test the indexed content by fetching the terms vectors for a given entity from the index. Check in the [documentation](https://www.elastic.co/guide/en/elasticsearch/reference/current/docs-termvectors.html) the meaning of the different values."
   ]
  },
  {
   "cell_type": "code",
   "execution_count": 13,
   "metadata": {
    "collapsed": true
   },
   "outputs": [],
   "source": [
    "# TODO\n",
    "\n",
    "tv = es.termvectors(index=INDEX_NAME, id=\"test_doc\", fields=\"name,description\")"
   ]
  },
  {
   "cell_type": "code",
   "execution_count": 14,
   "metadata": {
    "collapsed": false
   },
   "outputs": [
    {
     "data": {
      "text/plain": [
       "{'_id': 'test_doc',\n",
       " '_index': 'norwegian_athletes',\n",
       " '_type': '_doc',\n",
       " '_version': 1,\n",
       " 'found': True,\n",
       " 'term_vectors': {'description': {'field_statistics': {'doc_count': 1,\n",
       "    'sum_doc_freq': 2,\n",
       "    'sum_ttf': 2},\n",
       "   'terms': {'descript': {'term_freq': 1}, 'entiti': {'term_freq': 1}}},\n",
       "  'name': {'field_statistics': {'doc_count': 1,\n",
       "    'sum_doc_freq': 2,\n",
       "    'sum_ttf': 2},\n",
       "   'terms': {'entiti': {'term_freq': 1}, 'name': {'term_freq': 1}}}},\n",
       " 'took': 3}"
      ]
     },
     "execution_count": 14,
     "metadata": {},
     "output_type": "execute_result"
    }
   ],
   "source": [
    "tv"
   ]
  },
  {
   "cell_type": "markdown",
   "metadata": {},
   "source": [
    "## Feedback\n",
    "\n",
    "Please give (anonymous) feedback on this exercise by filling out [this form](https://forms.gle/22o3ursi5YsR1Ztb8)."
   ]
  }
 ],
 "metadata": {
  "kernelspec": {
   "display_name": "Python 3",
   "language": "python",
   "name": "python3"
  },
  "language_info": {
   "codemirror_mode": {
    "name": "ipython",
    "version": 3
   },
   "file_extension": ".py",
   "mimetype": "text/x-python",
   "name": "python",
   "nbconvert_exporter": "python",
   "pygments_lexer": "ipython3",
   "version": "3.6.9"
  }
 },
 "nbformat": 4,
 "nbformat_minor": 2
}
