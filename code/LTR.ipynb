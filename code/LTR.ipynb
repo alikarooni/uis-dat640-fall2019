{
 "cells": [
  {
   "cell_type": "markdown",
   "metadata": {},
   "source": [
    "# Learning-to-Rank example"
   ]
  },
  {
   "cell_type": "code",
   "execution_count": 1,
   "metadata": {
    "collapsed": true
   },
   "outputs": [],
   "source": [
    "from sklearn.ensemble import RandomForestRegressor\n",
    "import numpy as np"
   ]
  },
  {
   "cell_type": "markdown",
   "metadata": {},
   "source": [
    "## A class for pointwise-based learning to rank model"
   ]
  },
  {
   "cell_type": "code",
   "execution_count": 2,
   "metadata": {
    "collapsed": true
   },
   "outputs": [],
   "source": [
    "class PointWiseLTRModel(object):\n",
    "    def __init__(self, regressor):\n",
    "        \"\"\"\n",
    "        :param classifier: an instance of scikit-learn regressor\n",
    "        \"\"\"\n",
    "        self.regressor = regressor\n",
    "\n",
    "    def _train(self, X, y):\n",
    "        \"\"\"\n",
    "        Trains and LTR model.\n",
    "        :param X: features of training instances\n",
    "        :param y: relevance assessments of training instances\n",
    "        :return:\n",
    "        \"\"\"\n",
    "        assert self.regressor is not None\n",
    "        self.model = self.regressor.fit(X, y)\n",
    "\n",
    "    def rank(self, ft, doc_ids):\n",
    "        \"\"\"\n",
    "        Predicts relevance labels and rank documents for a given query\n",
    "        :param ft: a list of features for query-doc pairs\n",
    "        :param ft: a list of document ids\n",
    "        :return:\n",
    "        \"\"\"\n",
    "        assert self.model is not None\n",
    "        rel_labels = self.model.predict(ft)\n",
    "        sort_indices = np.argsort(rel_labels)[::-1]\n",
    "\n",
    "        results = []\n",
    "        for i in sort_indices:\n",
    "            results.append((doc_ids[i], rel_labels[i]))\n",
    "        return results"
   ]
  },
  {
   "cell_type": "markdown",
   "metadata": {},
   "source": [
    "## Read data from file"
   ]
  },
  {
   "cell_type": "code",
   "execution_count": 3,
   "metadata": {
    "collapsed": true
   },
   "outputs": [],
   "source": [
    "def read_data_from_file(path):\n",
    "    \"\"\"\n",
    "    :param path: path of file\n",
    "    :return: X features of data, y labels of data, group a list of numbers indicate how many instances for each query\n",
    "    \"\"\"\n",
    "    X, y, qids, doc_ids = [], [], [], []\n",
    "    with open(path, \"r\") as f:\n",
    "        i, s_qid = 0, None\n",
    "        for line in f:\n",
    "            items = line.strip().split()\n",
    "            label = int(items[0])\n",
    "            qid = items[1]\n",
    "            doc_id = items[2]\n",
    "            features = np.array([float(i.split(\":\")[1]) for i in items[3:]])\n",
    "            X.append(features)\n",
    "            y.append(label)\n",
    "            qids.append(qid)\n",
    "            doc_ids.append(doc_id)\n",
    "\n",
    "    return X, y, qids, doc_ids"
   ]
  },
  {
   "cell_type": "markdown",
   "metadata": {},
   "source": [
    "## Main"
   ]
  },
  {
   "cell_type": "markdown",
   "metadata": {},
   "source": [
    "#### Read input data"
   ]
  },
  {
   "cell_type": "code",
   "execution_count": 4,
   "metadata": {
    "collapsed": false
   },
   "outputs": [
    {
     "name": "stdout",
     "output_type": "stream",
     "text": [
      "#queries:  339\n",
      "#query-doc pairs:  14013\n"
     ]
    }
   ],
   "source": [
    "X, y, qids, doc_ids = read_data_from_file(path=\"data/features_sample.txt\")\n",
    "qids_unique= list(set(qids))\n",
    "\n",
    "print(\"#queries: \", len(qids_unique))\n",
    "print(\"#query-doc pairs: \", len(y))\n"
   ]
  },
  {
   "cell_type": "markdown",
   "metadata": {},
   "source": [
    "#### Split data into train and test sets (80% and 20%, respectively)"
   ]
  },
  {
   "cell_type": "code",
   "execution_count": 5,
   "metadata": {
    "collapsed": false
   },
   "outputs": [],
   "source": [
    "train_qids = []\n",
    "test_qids = []\n",
    "\n",
    "for i in range(len(qids_unique)):\n",
    "    qid = qids_unique[i]\n",
    "    if i % 5 == 0:  # test query\n",
    "        test_qids.append(qid)\n",
    "    else:  # train query\n",
    "        train_qids.append(qid)\n",
    "    \n",
    "train_X, train_y = [], []\n",
    "test_X, test_y = [], []\n",
    "\n",
    "for i in range(len(X)):\n",
    "    if qids[i] in train_qids:\n",
    "        train_X.append(X[i])\n",
    "        train_y.append(y[i])\n",
    "    else:\n",
    "        test_X.append(X[i])\n",
    "        test_y.append(y[i])"
   ]
  },
  {
   "cell_type": "markdown",
   "metadata": {},
   "source": [
    "#### Create a regression model and an LTR instance based on that"
   ]
  },
  {
   "cell_type": "code",
   "execution_count": 6,
   "metadata": {
    "collapsed": false
   },
   "outputs": [],
   "source": [
    "clf = RandomForestRegressor(max_depth=3, random_state=0)\n",
    "ltr = PointWiseLTRModel(clf)"
   ]
  },
  {
   "cell_type": "markdown",
   "metadata": {},
   "source": [
    "#### Train LTR model"
   ]
  },
  {
   "cell_type": "code",
   "execution_count": 7,
   "metadata": {
    "collapsed": true
   },
   "outputs": [],
   "source": [
    "ltr._train(train_X, train_y)"
   ]
  },
  {
   "cell_type": "markdown",
   "metadata": {},
   "source": [
    "#### Generate ranking for a test query"
   ]
  },
  {
   "cell_type": "code",
   "execution_count": 8,
   "metadata": {
    "collapsed": false
   },
   "outputs": [
    {
     "name": "stdout",
     "output_type": "stream",
     "text": [
      "[('GX271-93-3327909', 0.33622395312903264), ('GX236-37-11249339', 0.27539716807585607), ('GX264-92-1269066', 0.27539716807585607), ('GX233-88-9264368', 0.27539716807585607), ('GX132-25-6127667', 0.24858251233029405), ('GX104-75-14667053', 0.24652013303482176), ('GX261-94-0633628', 0.24652013303482176), ('GX051-59-12400045', 0.24652013303482176), ('GX036-88-3105280', 0.24652013303482176), ('GX230-97-12877355', 0.24652013303482176), ('GX232-43-7086097', 0.24652013303482176), ('GX230-96-2438447', 0.24652013303482176), ('GX252-20-5351758', 0.24652013303482176), ('GX254-22-4180355', 0.24652013303482176), ('GX260-93-1403917', 0.23757130553338385), ('GX012-85-8988825', 0.23757130553338385), ('GX025-11-11819187', 0.23757130553338385), ('GX054-19-10953443', 0.23757130553338385), ('GX252-62-4793191', 0.23757130553338385), ('GX270-90-5058390', 0.23757130553338385), ('GX256-61-13960422', 0.23757130553338385), ('GX097-96-1976846', 0.23757130553338385), ('GX084-00-1975997', 0.23757130553338385), ('GX052-72-14886943', 0.23757130553338385), ('GX000-12-0181183', 0.22409977595780708), ('GX218-20-2643790', 0.21898674487881253), ('GX045-56-15421628', 0.19185585763442128), ('GX257-50-2533731', 0.19185585763442128), ('GX231-42-4762069', 0.19185585763442128), ('GX064-52-12890635', 0.18733965792089785), ('GX069-61-8254495', 0.15123744906356432), ('GX068-35-11938400', 0.15098687063530364), ('GX229-85-6575330', 0.15098687063530364), ('GX018-10-2447676', 0.15098687063530364), ('GX010-12-13113423', 0.15098687063530364), ('GX004-48-16658222', 0.15098687063530364), ('GX231-50-7756915', 0.1324023099807323), ('GX040-21-4954865', 0.098629347596471309), ('GX116-45-8462902', 0.056655506895022967), ('GX000-00-0000000', 0.056655506895022967)]\n"
     ]
    }
   ],
   "source": [
    "qid = test_qids[0]  # first test query\n",
    "# get the doc_ids and feature vectors for the documents that are to be ranked for this query\n",
    "# Note that this is a really inefficient way of doing this!\n",
    "test_X = []\n",
    "test_doc_ids = []\n",
    "\n",
    "for i in range(len(X)):\n",
    "    if qids[i] == qid:\n",
    "        test_X.append(X[i])\n",
    "        test_doc_ids.append(doc_ids[i])\n",
    "\n",
    "r = ltr.rank(test_X, test_doc_ids)\n",
    "print(r)"
   ]
  }
 ],
 "metadata": {
  "kernelspec": {
   "display_name": "Python 3",
   "language": "python",
   "name": "python3"
  },
  "language_info": {
   "codemirror_mode": {
    "name": "ipython",
    "version": 3
   },
   "file_extension": ".py",
   "mimetype": "text/x-python",
   "name": "python",
   "nbconvert_exporter": "python",
   "pygments_lexer": "ipython3",
   "version": "3.6.9"
  }
 },
 "nbformat": 4,
 "nbformat_minor": 2
}
