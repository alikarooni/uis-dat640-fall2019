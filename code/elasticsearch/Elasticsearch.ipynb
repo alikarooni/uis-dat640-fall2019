{
 "cells": [
  {
   "cell_type": "markdown",
   "metadata": {},
   "source": [
    "# Elasticsearch\n",
    "\n",
    "A toy-sized example for indexing and searching a collection of documents."
   ]
  },
  {
   "cell_type": "code",
   "execution_count": 1,
   "metadata": {
    "collapsed": true
   },
   "outputs": [],
   "source": [
    "from elasticsearch import Elasticsearch"
   ]
  },
  {
   "cell_type": "code",
   "execution_count": 2,
   "metadata": {
    "collapsed": true
   },
   "outputs": [],
   "source": [
    "import pprint  # for pretty printing of JSON objects"
   ]
  },
  {
   "cell_type": "code",
   "execution_count": 3,
   "metadata": {
    "collapsed": true
   },
   "outputs": [],
   "source": [
    "INDEX_NAME = \"toy_index\"  # the name of the index\n",
    "DOC_TYPE = \"doc\"  # we have a single type of document, so it doesn't matter\n",
    "INDEX_SETTINGS = {  # single shard with a single replica\n",
    "    \"settings\" : {\n",
    "        \"index\" : {\n",
    "            \"number_of_shards\" : 1,\n",
    "            \"number_of_replicas\" : 1\n",
    "        }\n",
    "    }\n",
    "}"
   ]
  },
  {
   "cell_type": "markdown",
   "metadata": {},
   "source": [
    "The collection of documents is given here as a Python dictionary. Each document has two fields: title and content."
   ]
  },
  {
   "cell_type": "code",
   "execution_count": 4,
   "metadata": {
    "collapsed": true
   },
   "outputs": [],
   "source": [
    "DOCS = {\n",
    "    1: {\"title\": \"Rap God\",\n",
    "        \"content\": \"gonna, gonna, Look, I was gonna go easy on you and not to hurt your feelings\"\n",
    "        },\n",
    "    2: {\"title\": \"Lose Yourself\",\n",
    "        \"content\": \"Yo, if you could just, for one minute Or one split second in time, forget everything Everything that bothers you, or your problems Everything, and follow me\"\n",
    "        },\n",
    "    3: {\"title\": \"Love The Way You Lie\",\n",
    "        \"content\": \"Just gonna stand there and watch me burn But that's alright, because I like the way it hurts\"\n",
    "        },\n",
    "    4: {\"title\": \"The Monster\",\n",
    "        \"content\": [\"gonna gonna I'm friends with the monster\", \"That's under my bed Get along with the voices inside of my head\"]\n",
    "        },\n",
    "    5: {\"title\": \"Beautiful\",\n",
    "        \"content\": \"Lately I've been hard to reach I've been too long on my own Everybody has a private world Where they can be alone\"\n",
    "        }\n",
    "}  # Eminem rulez ;)"
   ]
  },
  {
   "cell_type": "markdown",
   "metadata": {},
   "source": [
    "### Create Elasticsearch object"
   ]
  },
  {
   "cell_type": "code",
   "execution_count": 5,
   "metadata": {
    "collapsed": true
   },
   "outputs": [],
   "source": [
    "es = Elasticsearch()"
   ]
  },
  {
   "cell_type": "markdown",
   "metadata": {},
   "source": [
    "Check if service is running"
   ]
  },
  {
   "cell_type": "code",
   "execution_count": 6,
   "metadata": {
    "collapsed": false
   },
   "outputs": [
    {
     "data": {
      "text/plain": [
       "{'cluster_name': 'elasticsearch',\n",
       " 'cluster_uuid': 'LMlf8WX9RPC0aJ0eB5R69Q',\n",
       " 'name': 'Krisztians-MacBook-Pro.local',\n",
       " 'tagline': 'You Know, for Search',\n",
       " 'version': {'build_date': '2019-09-27T08:36:48.569419Z',\n",
       "  'build_flavor': 'default',\n",
       "  'build_hash': '22e1767283e61a198cb4db791ea66e3f11ab9910',\n",
       "  'build_snapshot': False,\n",
       "  'build_type': 'tar',\n",
       "  'lucene_version': '8.2.0',\n",
       "  'minimum_index_compatibility_version': '6.0.0-beta1',\n",
       "  'minimum_wire_compatibility_version': '6.8.0',\n",
       "  'number': '7.4.0'}}"
      ]
     },
     "execution_count": 6,
     "metadata": {},
     "output_type": "execute_result"
    }
   ],
   "source": [
    "es.info()"
   ]
  },
  {
   "cell_type": "markdown",
   "metadata": {},
   "source": [
    "### Create index"
   ]
  },
  {
   "cell_type": "markdown",
   "metadata": {},
   "source": [
    "If the index exists, we delete it (normally, you don't want to do this)."
   ]
  },
  {
   "cell_type": "code",
   "execution_count": 7,
   "metadata": {
    "collapsed": false
   },
   "outputs": [],
   "source": [
    "if es.indices.exists(INDEX_NAME):\n",
    "    es.indices.delete(index=INDEX_NAME)"
   ]
  },
  {
   "cell_type": "markdown",
   "metadata": {},
   "source": [
    "We set the number of shards and replicas to be used for each index when it's created. (We use a single shard instead of the default 5.)"
   ]
  },
  {
   "cell_type": "code",
   "execution_count": 8,
   "metadata": {
    "collapsed": false
   },
   "outputs": [
    {
     "data": {
      "text/plain": [
       "{'acknowledged': True, 'index': 'toy_index', 'shards_acknowledged': True}"
      ]
     },
     "execution_count": 8,
     "metadata": {},
     "output_type": "execute_result"
    }
   ],
   "source": [
    "es.indices.create(index=INDEX_NAME, body=INDEX_SETTINGS)"
   ]
  },
  {
   "cell_type": "markdown",
   "metadata": {},
   "source": [
    "### Add documents to the index"
   ]
  },
  {
   "cell_type": "code",
   "execution_count": 9,
   "metadata": {
    "collapsed": true
   },
   "outputs": [],
   "source": [
    "for doc_id, doc in DOCS.items():\n",
    "    es.index(index=INDEX_NAME, doc_type=DOC_TYPE, id=doc_id, body=doc)"
   ]
  },
  {
   "cell_type": "markdown",
   "metadata": {},
   "source": [
    "### Check what has been indexed"
   ]
  },
  {
   "cell_type": "markdown",
   "metadata": {},
   "source": [
    "Get the contents of doc #3"
   ]
  },
  {
   "cell_type": "code",
   "execution_count": 10,
   "metadata": {
    "collapsed": false
   },
   "outputs": [],
   "source": [
    "doc = es.get(index=INDEX_NAME, doc_type=DOC_TYPE, id=3)"
   ]
  },
  {
   "cell_type": "code",
   "execution_count": 11,
   "metadata": {
    "collapsed": false
   },
   "outputs": [
    {
     "name": "stdout",
     "output_type": "stream",
     "text": [
      "{'_id': '3',\n",
      " '_index': 'toy_index',\n",
      " '_primary_term': 1,\n",
      " '_seq_no': 2,\n",
      " '_source': {'content': \"Just gonna stand there and watch me burn But that's \"\n",
      "                        'alright, because I like the way it hurts',\n",
      "             'title': 'Love The Way You Lie'},\n",
      " '_type': 'doc',\n",
      " '_version': 1,\n",
      " 'found': True}\n"
     ]
    }
   ],
   "source": [
    "pprint.pprint(doc)"
   ]
  },
  {
   "cell_type": "markdown",
   "metadata": {},
   "source": [
    "Get the term vector for doc #3.\n",
    "\n",
    "`termvectors` returns information and statistics on terms in the fields of a particular document."
   ]
  },
  {
   "cell_type": "code",
   "execution_count": 12,
   "metadata": {
    "collapsed": false
   },
   "outputs": [],
   "source": [
    "tv = es.termvectors(index=INDEX_NAME, doc_type=DOC_TYPE, id=3, fields=\"title,content\")"
   ]
  },
  {
   "cell_type": "code",
   "execution_count": 13,
   "metadata": {
    "collapsed": false
   },
   "outputs": [
    {
     "name": "stdout",
     "output_type": "stream",
     "text": [
      "{'_id': '3',\n",
      " '_index': 'toy_index',\n",
      " '_type': 'doc',\n",
      " '_version': 1,\n",
      " 'found': True,\n",
      " 'term_vectors': {'content': {'field_statistics': {'doc_count': 5,\n",
      "                                                   'sum_doc_freq': 91,\n",
      "                                                   'sum_ttf': 104},\n",
      "                              'terms': {'alright': {'term_freq': 1,\n",
      "                                                    'tokens': [{'end_offset': 59,\n",
      "                                                                'position': 10,\n",
      "                                                                'start_offset': 52}]},\n",
      "                                        'and': {'term_freq': 1,\n",
      "                                                'tokens': [{'end_offset': 26,\n",
      "                                                            'position': 4,\n",
      "                                                            'start_offset': 23}]},\n",
      "                                        'because': {'term_freq': 1,\n",
      "                                                    'tokens': [{'end_offset': 68,\n",
      "                                                                'position': 11,\n",
      "                                                                'start_offset': 61}]},\n",
      "                                        'burn': {'term_freq': 1,\n",
      "                                                 'tokens': [{'end_offset': 40,\n",
      "                                                             'position': 7,\n",
      "                                                             'start_offset': 36}]},\n",
      "                                        'but': {'term_freq': 1,\n",
      "                                                'tokens': [{'end_offset': 44,\n",
      "                                                            'position': 8,\n",
      "                                                            'start_offset': 41}]},\n",
      "                                        'gonna': {'term_freq': 1,\n",
      "                                                  'tokens': [{'end_offset': 10,\n",
      "                                                              'position': 1,\n",
      "                                                              'start_offset': 5}]},\n",
      "                                        'hurts': {'term_freq': 1,\n",
      "                                                  'tokens': [{'end_offset': 92,\n",
      "                                                              'position': 17,\n",
      "                                                              'start_offset': 87}]},\n",
      "                                        'i': {'term_freq': 1,\n",
      "                                              'tokens': [{'end_offset': 70,\n",
      "                                                          'position': 12,\n",
      "                                                          'start_offset': 69}]},\n",
      "                                        'it': {'term_freq': 1,\n",
      "                                               'tokens': [{'end_offset': 86,\n",
      "                                                           'position': 16,\n",
      "                                                           'start_offset': 84}]},\n",
      "                                        'just': {'term_freq': 1,\n",
      "                                                 'tokens': [{'end_offset': 4,\n",
      "                                                             'position': 0,\n",
      "                                                             'start_offset': 0}]},\n",
      "                                        'like': {'term_freq': 1,\n",
      "                                                 'tokens': [{'end_offset': 75,\n",
      "                                                             'position': 13,\n",
      "                                                             'start_offset': 71}]},\n",
      "                                        'me': {'term_freq': 1,\n",
      "                                               'tokens': [{'end_offset': 35,\n",
      "                                                           'position': 6,\n",
      "                                                           'start_offset': 33}]},\n",
      "                                        'stand': {'term_freq': 1,\n",
      "                                                  'tokens': [{'end_offset': 16,\n",
      "                                                              'position': 2,\n",
      "                                                              'start_offset': 11}]},\n",
      "                                        \"that's\": {'term_freq': 1,\n",
      "                                                   'tokens': [{'end_offset': 51,\n",
      "                                                               'position': 9,\n",
      "                                                               'start_offset': 45}]},\n",
      "                                        'the': {'term_freq': 1,\n",
      "                                                'tokens': [{'end_offset': 79,\n",
      "                                                            'position': 14,\n",
      "                                                            'start_offset': 76}]},\n",
      "                                        'there': {'term_freq': 1,\n",
      "                                                  'tokens': [{'end_offset': 22,\n",
      "                                                              'position': 3,\n",
      "                                                              'start_offset': 17}]},\n",
      "                                        'watch': {'term_freq': 1,\n",
      "                                                  'tokens': [{'end_offset': 32,\n",
      "                                                              'position': 5,\n",
      "                                                              'start_offset': 27}]},\n",
      "                                        'way': {'term_freq': 1,\n",
      "                                                'tokens': [{'end_offset': 83,\n",
      "                                                            'position': 15,\n",
      "                                                            'start_offset': 80}]}}},\n",
      "                  'title': {'field_statistics': {'doc_count': 5,\n",
      "                                                 'sum_doc_freq': 12,\n",
      "                                                 'sum_ttf': 12},\n",
      "                            'terms': {'lie': {'term_freq': 1,\n",
      "                                              'tokens': [{'end_offset': 20,\n",
      "                                                          'position': 4,\n",
      "                                                          'start_offset': 17}]},\n",
      "                                      'love': {'term_freq': 1,\n",
      "                                               'tokens': [{'end_offset': 4,\n",
      "                                                           'position': 0,\n",
      "                                                           'start_offset': 0}]},\n",
      "                                      'the': {'term_freq': 1,\n",
      "                                              'tokens': [{'end_offset': 8,\n",
      "                                                          'position': 1,\n",
      "                                                          'start_offset': 5}]},\n",
      "                                      'way': {'term_freq': 1,\n",
      "                                              'tokens': [{'end_offset': 12,\n",
      "                                                          'position': 2,\n",
      "                                                          'start_offset': 9}]},\n",
      "                                      'you': {'term_freq': 1,\n",
      "                                              'tokens': [{'end_offset': 16,\n",
      "                                                          'position': 3,\n",
      "                                                          'start_offset': 13}]}}}},\n",
      " 'took': 1}\n"
     ]
    }
   ],
   "source": [
    "pprint.pprint(tv)"
   ]
  },
  {
   "cell_type": "markdown",
   "metadata": {},
   "source": [
    "### Search"
   ]
  },
  {
   "cell_type": "code",
   "execution_count": 14,
   "metadata": {
    "collapsed": false
   },
   "outputs": [],
   "source": [
    "query = \"rap monster\"\n",
    "res = es.search(index=INDEX_NAME, q=query, _source=False, size=10)"
   ]
  },
  {
   "cell_type": "markdown",
   "metadata": {},
   "source": [
    "Print full response (`hits` holds the results)"
   ]
  },
  {
   "cell_type": "code",
   "execution_count": 15,
   "metadata": {
    "collapsed": false
   },
   "outputs": [
    {
     "name": "stdout",
     "output_type": "stream",
     "text": [
      "{'_shards': {'failed': 0, 'skipped': 0, 'successful': 1, 'total': 1},\n",
      " 'hits': {'hits': [],\n",
      "          'max_score': None,\n",
      "          'total': {'relation': 'eq', 'value': 0}},\n",
      " 'timed_out': False,\n",
      " 'took': 3}\n"
     ]
    }
   ],
   "source": [
    "pprint.pprint(res)"
   ]
  },
  {
   "cell_type": "markdown",
   "metadata": {},
   "source": [
    "Print only search results (ranked list of docs)"
   ]
  },
  {
   "cell_type": "code",
   "execution_count": 16,
   "metadata": {
    "collapsed": false
   },
   "outputs": [],
   "source": [
    "for hit in res['hits']['hits']:\n",
    "    print(\"Doc ID: %3r  Score: %5.2f\" % (hit['_id'], hit['_score']))"
   ]
  }
 ],
 "metadata": {
  "kernelspec": {
   "display_name": "Python 3",
   "language": "python",
   "name": "python3"
  },
  "language_info": {
   "codemirror_mode": {
    "name": "ipython",
    "version": 3
   },
   "file_extension": ".py",
   "mimetype": "text/x-python",
   "name": "python",
   "nbconvert_exporter": "python",
   "pygments_lexer": "ipython3",
   "version": "3.6.9"
  }
 },
 "nbformat": 4,
 "nbformat_minor": 2
}
